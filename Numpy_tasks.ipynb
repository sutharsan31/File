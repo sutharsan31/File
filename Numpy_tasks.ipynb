{
  "cells": [
    {
      "cell_type": "markdown",
      "metadata": {
        "id": "view-in-github",
        "colab_type": "text"
      },
      "source": [
        "<a href=\"https://colab.research.google.com/github/sutharsan31/File/blob/main/Numpy_tasks.ipynb\" target=\"_parent\"><img src=\"https://colab.research.google.com/assets/colab-badge.svg\" alt=\"Open In Colab\"/></a>"
      ]
    },
    {
      "cell_type": "markdown",
      "metadata": {
        "id": "DDjkX-ph3XZE"
      },
      "source": [
        "# Numpy\n",
        "\n"
      ]
    },
    {
      "cell_type": "markdown",
      "metadata": {
        "id": "uelzIuS63XZH"
      },
      "source": [
        "#### 1. Import the numpy package under the name `np` (★☆☆) \n",
        "(**hint**: import … as …)"
      ]
    },
    {
      "cell_type": "code",
      "execution_count": 75,
      "metadata": {
        "collapsed": true,
        "id": "cE99ujai3XZI"
      },
      "outputs": [],
      "source": [
        "import numpy as np"
      ]
    },
    {
      "cell_type": "markdown",
      "metadata": {
        "id": "Ujeo1qti3XZI"
      },
      "source": [
        "#### 2. Print the numpy version and the configuration (★☆☆) \n",
        "(**hint**: np.\\_\\_version\\_\\_, np.show\\_config)"
      ]
    },
    {
      "cell_type": "code",
      "execution_count": null,
      "metadata": {
        "id": "Qg2coKbU3XZJ",
        "outputId": "71ff78c2-cc2a-4098-cd80-bb5837c716c2",
        "colab": {
          "base_uri": "https://localhost:8080/"
        }
      },
      "outputs": [
        {
          "output_type": "stream",
          "name": "stdout",
          "text": [
            "1.21.6\n"
          ]
        }
      ],
      "source": [
        "print(np.__version__)"
      ]
    },
    {
      "cell_type": "markdown",
      "metadata": {
        "id": "mwv75oTr3XZJ"
      },
      "source": [
        "#### 3. Create a null vector of size 10 (★☆☆) \n",
        "(**hint**: np.zeros)"
      ]
    },
    {
      "cell_type": "code",
      "execution_count": null,
      "metadata": {
        "id": "Ug3helvh3XZJ"
      },
      "outputs": [],
      "source": [
        "x = np.zeros(10)"
      ]
    },
    {
      "cell_type": "markdown",
      "metadata": {
        "id": "41YZXXMg3XZK"
      },
      "source": [
        "#### 4.  How to find the memory size of any array (★☆☆) \n",
        "(**hint**: size, itemsize)"
      ]
    },
    {
      "cell_type": "code",
      "execution_count": 3,
      "metadata": {
        "id": "kebAI2xW3XZK"
      },
      "outputs": [],
      "source": [
        "x = np.array([100,20,34])\n",
        "n=x.size * x.itemsize"
      ]
    },
    {
      "cell_type": "markdown",
      "metadata": {
        "id": "QsCSCzsw3XZL"
      },
      "source": [
        "#### 5.  How to get the documentation of the numpy add function from the command line? (★☆☆) \n",
        "(**hint**: np.info)"
      ]
    },
    {
      "cell_type": "code",
      "execution_count": 4,
      "metadata": {
        "collapsed": true,
        "id": "mlV92q1d3XZL",
        "outputId": "b9c96a13-4e8d-4775-fc9e-25c178f1bead",
        "colab": {
          "base_uri": "https://localhost:8080/"
        }
      },
      "outputs": [
        {
          "output_type": "stream",
          "name": "stdout",
          "text": [
            "add(x1, x2, /, out=None, *, where=True, casting='same_kind', order='K', dtype=None, subok=True[, signature, extobj])\n",
            "\n",
            "Add arguments element-wise.\n",
            "\n",
            "Parameters\n",
            "----------\n",
            "x1, x2 : array_like\n",
            "    The arrays to be added.\n",
            "    If ``x1.shape != x2.shape``, they must be broadcastable to a common\n",
            "    shape (which becomes the shape of the output).\n",
            "out : ndarray, None, or tuple of ndarray and None, optional\n",
            "    A location into which the result is stored. If provided, it must have\n",
            "    a shape that the inputs broadcast to. If not provided or None,\n",
            "    a freshly-allocated array is returned. A tuple (possible only as a\n",
            "    keyword argument) must have length equal to the number of outputs.\n",
            "where : array_like, optional\n",
            "    This condition is broadcast over the input. At locations where the\n",
            "    condition is True, the `out` array will be set to the ufunc result.\n",
            "    Elsewhere, the `out` array will retain its original value.\n",
            "    Note that if an uninitialized `out` array is created via the default\n",
            "    ``out=None``, locations within it where the condition is False will\n",
            "    remain uninitialized.\n",
            "**kwargs\n",
            "    For other keyword-only arguments, see the\n",
            "    :ref:`ufunc docs <ufuncs.kwargs>`.\n",
            "\n",
            "Returns\n",
            "-------\n",
            "add : ndarray or scalar\n",
            "    The sum of `x1` and `x2`, element-wise.\n",
            "    This is a scalar if both `x1` and `x2` are scalars.\n",
            "\n",
            "Notes\n",
            "-----\n",
            "Equivalent to `x1` + `x2` in terms of array broadcasting.\n",
            "\n",
            "Examples\n",
            "--------\n",
            ">>> np.add(1.0, 4.0)\n",
            "5.0\n",
            ">>> x1 = np.arange(9.0).reshape((3, 3))\n",
            ">>> x2 = np.arange(3.0)\n",
            ">>> np.add(x1, x2)\n",
            "array([[  0.,   2.,   4.],\n",
            "       [  3.,   5.,   7.],\n",
            "       [  6.,   8.,  10.]])\n",
            "\n",
            "The ``+`` operator can be used as a shorthand for ``np.add`` on ndarrays.\n",
            "\n",
            ">>> x1 = np.arange(9.0).reshape((3, 3))\n",
            ">>> x2 = np.arange(3.0)\n",
            ">>> x1 + x2\n",
            "array([[ 0.,  2.,  4.],\n",
            "       [ 3.,  5.,  7.],\n",
            "       [ 6.,  8., 10.]])\n"
          ]
        }
      ],
      "source": [
        "np.info(np.add)"
      ]
    },
    {
      "cell_type": "markdown",
      "metadata": {
        "id": "j3Ew_wkI3XZL"
      },
      "source": [
        "#### 6.  Create a null vector of size 10 but the fifth value which is 1 (★☆☆) \n",
        "(**hint**: array\\[4\\])"
      ]
    },
    {
      "cell_type": "code",
      "execution_count": 5,
      "metadata": {
        "id": "Y7aJcbcq3XZL"
      },
      "outputs": [],
      "source": [
        "x = np.zeros(10)\n",
        "x[4]=1"
      ]
    },
    {
      "cell_type": "markdown",
      "metadata": {
        "id": "EyacuE6A3XZM"
      },
      "source": [
        "#### 7.  Create a vector with values ranging from 10 to 49 (★☆☆) \n",
        "(**hint**: np.arange)"
      ]
    },
    {
      "cell_type": "code",
      "execution_count": 6,
      "metadata": {
        "id": "DBjHT02C3XZM"
      },
      "outputs": [],
      "source": [
        "v = np.arange(10,49)"
      ]
    },
    {
      "cell_type": "markdown",
      "metadata": {
        "id": "U7Y6oHwl3XZM"
      },
      "source": [
        "#### 8.  Reverse a vector (first element becomes last) (★☆☆) \n",
        "(**hint**: array\\[::-1\\])"
      ]
    },
    {
      "cell_type": "code",
      "execution_count": 7,
      "metadata": {
        "id": "uDKZ_P6-3XZM"
      },
      "outputs": [],
      "source": [
        "a = np.array([1, 2, 3, 6, 4, 5])\n",
        "b=a[::-1]"
      ]
    },
    {
      "cell_type": "markdown",
      "metadata": {
        "id": "2TMJXvL83XZN"
      },
      "source": [
        "#### 9.  Create a 3x3 matrix with values ranging from 0 to 8 (★☆☆) \n",
        "(**hint**: reshape)"
      ]
    },
    {
      "cell_type": "code",
      "execution_count": null,
      "metadata": {
        "id": "8Sc8Yivi3XZN"
      },
      "outputs": [],
      "source": [
        "x =  np.arange(0,9).reshape(3,3)"
      ]
    },
    {
      "cell_type": "markdown",
      "metadata": {
        "id": "ugKGmdJe3XZN"
      },
      "source": [
        "#### 10. Find indices of non-zero elements from \\[1,2,0,0,4,0\\] (★☆☆) \n",
        "(**hint**: np.nonzero)"
      ]
    },
    {
      "cell_type": "code",
      "execution_count": null,
      "metadata": {
        "id": "7Vniplb13XZN",
        "outputId": "abf9e17f-c3f0-47d0-ac32-8da0402e15f3",
        "colab": {
          "base_uri": "https://localhost:8080/"
        }
      },
      "outputs": [
        {
          "output_type": "execute_result",
          "data": {
            "text/plain": [
              "(array([0, 1, 4]),)"
            ]
          },
          "metadata": {},
          "execution_count": 11
        }
      ],
      "source": [
        "x=[1,2,0,0,4,0]\n",
        "np.nonzero(x)"
      ]
    },
    {
      "cell_type": "markdown",
      "metadata": {
        "id": "gDmXhZ7H3XZO"
      },
      "source": [
        "#### 11. Create a 3x3 identity matrix (★☆☆) \n",
        "(**hint**: np.eye)"
      ]
    },
    {
      "cell_type": "code",
      "execution_count": null,
      "metadata": {
        "id": "fhkV3oJv3XZO",
        "outputId": "6a39a5db-44f7-4335-cac9-5b1dc5e994cf",
        "colab": {
          "base_uri": "https://localhost:8080/"
        }
      },
      "outputs": [
        {
          "output_type": "execute_result",
          "data": {
            "text/plain": [
              "array([[1., 0., 0.],\n",
              "       [0., 1., 0.],\n",
              "       [0., 0., 1.]])"
            ]
          },
          "metadata": {},
          "execution_count": 12
        }
      ],
      "source": [
        "np.eye(3)"
      ]
    },
    {
      "cell_type": "markdown",
      "metadata": {
        "id": "Z-47WtiS3XZO"
      },
      "source": [
        "#### 12. Create a 3x3x3 array with random values (★☆☆) \n",
        "(**hint**: np.random.random)"
      ]
    },
    {
      "cell_type": "code",
      "execution_count": null,
      "metadata": {
        "collapsed": true,
        "id": "Tb6lzeuR3XZO",
        "outputId": "0bb9c4e1-2a91-4497-9ed1-cfad4a1de015",
        "colab": {
          "base_uri": "https://localhost:8080/"
        }
      },
      "outputs": [
        {
          "output_type": "execute_result",
          "data": {
            "text/plain": [
              "array([[[0.30985715, 0.78836199, 0.29632122],\n",
              "        [0.29771569, 0.42145504, 0.99648173],\n",
              "        [0.93731571, 0.8560235 , 0.19335322]],\n",
              "\n",
              "       [[0.53669347, 0.25456161, 0.13847119],\n",
              "        [0.66618866, 0.28845516, 0.40909964],\n",
              "        [0.13706877, 0.04129164, 0.79056113]],\n",
              "\n",
              "       [[0.85007391, 0.75875938, 0.0600785 ],\n",
              "        [0.12045073, 0.21716431, 0.76388103],\n",
              "        [0.56211998, 0.78551609, 0.18066907]]])"
            ]
          },
          "metadata": {},
          "execution_count": 13
        }
      ],
      "source": [
        "np.random.random((3,3,3))"
      ]
    },
    {
      "cell_type": "markdown",
      "metadata": {
        "id": "NvtvmWYr3XZO"
      },
      "source": [
        "#### 13. Create a 10x10 array with random values and find the minimum and maximum values (★☆☆) \n",
        "(**hint**: min, max)"
      ]
    },
    {
      "cell_type": "code",
      "execution_count": null,
      "metadata": {
        "id": "nZ6SCh6D3XZO",
        "outputId": "1ff7dbea-fda1-4747-c72a-57fa9d7654e4",
        "colab": {
          "base_uri": "https://localhost:8080/"
        }
      },
      "outputs": [
        {
          "output_type": "stream",
          "name": "stdout",
          "text": [
            "[[8.29205605e-01 7.46716703e-02 7.10607047e-01 5.58965080e-01\n",
            "  4.14072035e-01 1.92332035e-01 5.59379438e-01 4.62963286e-01\n",
            "  7.17650064e-03 2.93326865e-02]\n",
            " [7.00929339e-01 6.36587829e-01 8.85410714e-01 3.42316005e-01\n",
            "  9.13054046e-01 1.14908534e-01 8.73333877e-01 1.64366846e-01\n",
            "  6.41784712e-01 6.80154781e-01]\n",
            " [4.71327181e-01 3.22791495e-01 4.98569530e-01 7.81603982e-01\n",
            "  8.31386803e-01 9.14130918e-02 8.28268455e-01 7.88793316e-01\n",
            "  5.41986692e-01 9.43794044e-04]\n",
            " [2.28555831e-01 5.42655917e-01 3.35989133e-01 1.46597210e-01\n",
            "  4.51143065e-01 3.77139439e-01 2.50383719e-01 2.05403513e-01\n",
            "  7.86839468e-01 8.98890051e-01]\n",
            " [9.85312553e-01 9.33781341e-01 5.86994168e-01 7.40555309e-01\n",
            "  6.69228213e-01 9.84254590e-01 9.50496550e-01 5.18470898e-01\n",
            "  9.34397314e-01 4.91753966e-03]\n",
            " [8.70889489e-01 5.13175133e-01 5.62685231e-01 7.25106325e-01\n",
            "  8.69545438e-01 9.84438527e-01 9.80565050e-01 8.68191196e-01\n",
            "  8.15923941e-01 2.64390191e-01]\n",
            " [8.41238169e-01 2.04483793e-01 6.94990093e-01 4.98469081e-01\n",
            "  1.21538608e-01 3.51838932e-01 5.36162826e-01 9.62121024e-02\n",
            "  3.74757570e-01 5.50789403e-01]\n",
            " [7.61865181e-01 5.63425519e-01 1.64106882e-01 6.72962814e-01\n",
            "  4.52536247e-01 3.03968148e-01 4.42273587e-01 7.24055799e-01\n",
            "  6.88678935e-01 1.08251537e-01]\n",
            " [3.68803357e-01 9.91266586e-01 2.46042231e-01 7.35772410e-01\n",
            "  2.74365973e-01 6.47745364e-01 5.53084665e-01 5.77487085e-01\n",
            "  9.33884936e-01 8.57185987e-01]\n",
            " [4.44901759e-02 9.12644246e-01 6.94151613e-01 6.99205097e-01\n",
            "  5.54975071e-01 2.50788059e-01 5.69829150e-02 3.10422555e-01\n",
            "  3.14774621e-01 5.14622868e-01]]\n",
            "0.9912665855471166 0.0009437940436742842\n"
          ]
        }
      ],
      "source": [
        "x = np.random.random((10,10))\n",
        "print(x)\n",
        "maxx,minn=x.max(),x.min()\n",
        "print(maxx,minn)"
      ]
    },
    {
      "cell_type": "markdown",
      "metadata": {
        "id": "wQ1dr1iB3XZO"
      },
      "source": [
        "#### 14. Create a random vector of size 30 and find the mean value (★☆☆) \n",
        "(**hint**: mean)"
      ]
    },
    {
      "cell_type": "code",
      "execution_count": null,
      "metadata": {
        "id": "iBZSaiTm3XZO",
        "outputId": "307e633a-ef1d-4083-b166-f71308eb0379",
        "colab": {
          "base_uri": "https://localhost:8080/"
        }
      },
      "outputs": [
        {
          "output_type": "stream",
          "name": "stdout",
          "text": [
            "[0.4138842  0.88809024 0.81024706 0.46396624 0.09986428 0.30585205\n",
            " 0.86719756 0.03566713 0.3395531  0.26464245]\n",
            "0.4488964319312517\n"
          ]
        }
      ],
      "source": [
        "x = np.random.random(10)\n",
        "print(x)\n",
        "a=x.mean()\n",
        "print(a)"
      ]
    },
    {
      "cell_type": "markdown",
      "metadata": {
        "id": "qK_v408P3XZP"
      },
      "source": [
        "#### 15. Create a 2d array with 1 on the border and 0 inside (★☆☆) \n",
        "(**hint**: array\\[1:-1, 1:-1\\])"
      ]
    },
    {
      "cell_type": "code",
      "execution_count": null,
      "metadata": {
        "id": "VkZBziTW3XZP",
        "outputId": "38f24a46-0933-49df-b007-43c9de9b65b5",
        "colab": {
          "base_uri": "https://localhost:8080/"
        }
      },
      "outputs": [
        {
          "output_type": "stream",
          "name": "stdout",
          "text": [
            "[[1. 1. 1. 1. 1.]\n",
            " [1. 0. 0. 0. 1.]\n",
            " [1. 0. 0. 0. 1.]\n",
            " [1. 0. 0. 0. 1.]\n",
            " [1. 1. 1. 1. 1.]]\n"
          ]
        }
      ],
      "source": [
        "x = np.ones((5,5))\n",
        "x[1:-1,1:-1] = 0\n",
        "print(x)"
      ]
    },
    {
      "cell_type": "markdown",
      "metadata": {
        "id": "gAkUEcfG3XZP"
      },
      "source": [
        "#### 16. How to add a border (filled with 0's) around an existing array? (★☆☆) \n",
        "(**hint**: np.pad)"
      ]
    },
    {
      "cell_type": "code",
      "execution_count": null,
      "metadata": {
        "id": "Y99n-Tn13XZP",
        "outputId": "18df77a8-9278-4bcf-ea8b-b2667a3ec32c",
        "colab": {
          "base_uri": "https://localhost:8080/"
        }
      },
      "outputs": [
        {
          "output_type": "stream",
          "name": "stdout",
          "text": [
            "[[2. 2. 2. 2. 2.]\n",
            " [2. 1. 1. 1. 2.]\n",
            " [2. 1. 1. 1. 2.]\n",
            " [2. 1. 1. 1. 2.]\n",
            " [2. 2. 2. 2. 2.]]\n"
          ]
        }
      ],
      "source": [
        "x = np.ones((3,3))\n",
        "x = np.pad(x, pad_width=1, mode='constant', constant_values=2)\n",
        "print(x)"
      ]
    },
    {
      "cell_type": "markdown",
      "metadata": {
        "id": "bKu9gQ-u3XZP"
      },
      "source": [
        "#### 17. What is the result of the following expression? (★☆☆) \n",
        "(**hint**: NaN = not a number, inf = infinity)"
      ]
    },
    {
      "cell_type": "markdown",
      "metadata": {
        "id": "aVyNGuXi3XZP"
      },
      "source": [
        "```python\n",
        "0 * np.nan\n",
        "np.nan == np.nan\n",
        "np.inf > np.nan\n",
        "np.nan - np.nan\n",
        "0.3 == 3 * 0.1\n",
        "```"
      ]
    },
    {
      "cell_type": "code",
      "execution_count": null,
      "metadata": {
        "id": "tUKjwZaz3XZP",
        "outputId": "36c5082c-2f31-4534-ccc1-16046f9e2551",
        "colab": {
          "base_uri": "https://localhost:8080/"
        }
      },
      "outputs": [
        {
          "output_type": "execute_result",
          "data": {
            "text/plain": [
              "True"
            ]
          },
          "metadata": {},
          "execution_count": 29
        }
      ],
      "source": [
        "np.nan in set([np.nan])"
      ]
    },
    {
      "cell_type": "markdown",
      "metadata": {
        "id": "2hLoeBqK3XZQ"
      },
      "source": [
        "#### 18. Create a 5x5 matrix with values 1,2,3,4 just below the diagonal (★☆☆) \n",
        "(**hint**: np.diag)"
      ]
    },
    {
      "cell_type": "code",
      "execution_count": null,
      "metadata": {
        "id": "0eIs2A063XZQ",
        "outputId": "e809662d-cce2-4fac-a596-981b4c6907f6",
        "colab": {
          "base_uri": "https://localhost:8080/"
        }
      },
      "outputs": [
        {
          "output_type": "stream",
          "name": "stdout",
          "text": [
            "[[1 0 0 0 0]\n",
            " [0 2 0 0 0]\n",
            " [0 0 3 0 0]\n",
            " [0 0 0 4 0]\n",
            " [0 0 0 0 5]]\n"
          ]
        }
      ],
      "source": [
        "x = np.diag([1, 2, 3, 4, 5])\n",
        "print(x)"
      ]
    },
    {
      "cell_type": "markdown",
      "metadata": {
        "id": "Fx7YH89N3XZQ"
      },
      "source": [
        "#### 19. Create a 8x8 matrix and fill it with a checkerboard pattern (★☆☆) \n",
        "(**hint**: array\\[::2\\])"
      ]
    },
    {
      "cell_type": "code",
      "execution_count": null,
      "metadata": {
        "id": "MiPPruIu3XZQ",
        "outputId": "1821813c-2460-4826-e297-13470368b082",
        "colab": {
          "base_uri": "https://localhost:8080/"
        }
      },
      "outputs": [
        {
          "output_type": "stream",
          "name": "stdout",
          "text": [
            "[[0 1 0 1 0 1 0 1]\n",
            " [1 0 1 0 1 0 1 0]\n",
            " [0 1 0 1 0 1 0 1]\n",
            " [1 0 1 0 1 0 1 0]\n",
            " [0 1 0 1 0 1 0 1]\n",
            " [1 0 1 0 1 0 1 0]\n",
            " [0 1 0 1 0 1 0 1]\n",
            " [1 0 1 0 1 0 1 0]]\n"
          ]
        }
      ],
      "source": [
        "x = np.ones((3,3))\n",
        "x = np.zeros((8,8),dtype=int)\n",
        "x[1::2,::2] = 1\n",
        "x[::2,1::2] = 1\n",
        "print(x)"
      ]
    },
    {
      "cell_type": "markdown",
      "metadata": {
        "id": "n2nAa2m63XZQ"
      },
      "source": [
        "#### 20. Consider a (6,7,8) shape array, what is the index (x,y,z) of the 100th element? \n",
        "(**hint**: np.unravel_index)"
      ]
    },
    {
      "cell_type": "code",
      "execution_count": null,
      "metadata": {
        "id": "OJOuT9he3XZQ",
        "outputId": "1c6e75cb-cd33-4cde-9ea6-ffa8af1c3136",
        "colab": {
          "base_uri": "https://localhost:8080/"
        }
      },
      "outputs": [
        {
          "output_type": "execute_result",
          "data": {
            "text/plain": [
              "99"
            ]
          },
          "metadata": {},
          "execution_count": 30
        }
      ],
      "source": [
        "arr = np.arange(6*7*8).reshape(6,7,8)\n",
        "arr[1,5,3]"
      ]
    },
    {
      "cell_type": "markdown",
      "metadata": {
        "id": "BQ7rAEU83XZQ"
      },
      "source": [
        "#### 21. Create a checkerboard 8x8 matrix using the tile function (★☆☆) \n",
        "(**hint**: np.tile)"
      ]
    },
    {
      "cell_type": "code",
      "execution_count": null,
      "metadata": {
        "id": "MtVEB5P83XZR",
        "outputId": "9817ce4c-8179-4861-82d1-978459dd3451",
        "colab": {
          "base_uri": "https://localhost:8080/"
        }
      },
      "outputs": [
        {
          "output_type": "stream",
          "name": "stdout",
          "text": [
            "[[0 1 0 1 0 1 0 1]\n",
            " [1 0 1 0 1 0 1 0]\n",
            " [0 1 0 1 0 1 0 1]\n",
            " [1 0 1 0 1 0 1 0]\n",
            " [0 1 0 1 0 1 0 1]\n",
            " [1 0 1 0 1 0 1 0]\n",
            " [0 1 0 1 0 1 0 1]\n",
            " [1 0 1 0 1 0 1 0]]\n"
          ]
        }
      ],
      "source": [
        "array= np.array([[0,1], [1,0]])\n",
        "Z = np.tile(array,(4,4))\n",
        "print (Z)"
      ]
    },
    {
      "cell_type": "markdown",
      "metadata": {
        "id": "wA9WMvkT3XZR"
      },
      "source": [
        "#### 22. Normalize a 5x5 random matrix (★☆☆) \n",
        "(**hint**: (x - min) / (max - min))"
      ]
    },
    {
      "cell_type": "code",
      "execution_count": null,
      "metadata": {
        "id": "3xxq0esX3XZR",
        "outputId": "2e8aec39-54d9-4577-fe17-87334bfa8f36",
        "colab": {
          "base_uri": "https://localhost:8080/"
        }
      },
      "outputs": [
        {
          "output_type": "stream",
          "name": "stdout",
          "text": [
            "[[0.97970051 0.46437624 1.         0.71511015 0.37569718]\n",
            " [0.52173341 0.40171439 0.90743873 0.90127886 0.17173257]\n",
            " [0.91063957 0.73085319 0.54623098 0.22405158 0.08263212]\n",
            " [0.36684948 0.7170454  0.         0.3360559  0.42324484]\n",
            " [0.40530677 0.13122319 0.95615754 0.51247853 0.6829175 ]]\n"
          ]
        }
      ],
      "source": [
        "Z = np.random.random((5,5))\n",
        "Zmax, Zmin = Z.max(), Z.min()\n",
        "Z= (Z-Zmin)/(Zmax-Zmin)\n",
        "print (Z)"
      ]
    },
    {
      "cell_type": "markdown",
      "metadata": {
        "id": "8hx9eFev3XZR"
      },
      "source": [
        "#### 23. Create a custom dtype that describes a color as four unsigned bytes (RGBA) (★☆☆) \n",
        "(**hint**: np.dtype)"
      ]
    },
    {
      "cell_type": "code",
      "execution_count": null,
      "metadata": {
        "collapsed": true,
        "id": "G3iOftNO3XZR",
        "outputId": "7b0153e1-3d82-4b51-a677-a7552a3805a2",
        "colab": {
          "base_uri": "https://localhost:8080/"
        }
      },
      "outputs": [
        {
          "output_type": "stream",
          "name": "stdout",
          "text": [
            "1\n"
          ]
        },
        {
          "output_type": "execute_result",
          "data": {
            "text/plain": [
              "numpy.ndarray"
            ]
          },
          "metadata": {},
          "execution_count": 31
        }
      ],
      "source": [
        "RGBA = np.dtype([('red',np.uint8),('green',np.uint8),('blue',np.uint8),('alpha',np.uint8)])\n",
        "color = np.array((1,2,4,3),dtype = RGBA)\n",
        "print(color['red'])\n",
        "type(color)"
      ]
    },
    {
      "cell_type": "markdown",
      "metadata": {
        "id": "7i-nlRqk3XZR"
      },
      "source": [
        "#### 24. Multiply a 5x3 matrix by a 3x2 matrix (real matrix product) (★☆☆) \n",
        "(**hint**: np.dot | @)"
      ]
    },
    {
      "cell_type": "code",
      "execution_count": null,
      "metadata": {
        "id": "RTDF1KUJ3XZR",
        "outputId": "1d90d67c-04d0-4200-fc93-3fcf25f9c798",
        "colab": {
          "base_uri": "https://localhost:8080/"
        }
      },
      "outputs": [
        {
          "output_type": "stream",
          "name": "stdout",
          "text": [
            "[[3. 3.]\n",
            " [3. 3.]\n",
            " [3. 3.]\n",
            " [3. 3.]\n",
            " [3. 3.]]\n"
          ]
        }
      ],
      "source": [
        "Z= np.dot(np.ones((5,3)), np.ones((3,2)))\n",
        "print (Z)"
      ]
    },
    {
      "cell_type": "markdown",
      "metadata": {
        "id": "2LQYQ8ae3XZR"
      },
      "source": [
        "#### 25. Given a 1D array, negate all elements which are between 3 and 8, in place. (★☆☆) \n",
        "(**hint**: >, <=)"
      ]
    },
    {
      "cell_type": "code",
      "execution_count": null,
      "metadata": {
        "id": "ugrJZPBQ3XZR"
      },
      "outputs": [],
      "source": [
        "arr = np.arange(16)"
      ]
    },
    {
      "cell_type": "markdown",
      "metadata": {
        "id": "1Hjn7TMy3XZR"
      },
      "source": [
        "#### 26. What is the output of the following script? (★☆☆) \n",
        "(**hint**: np.sum)"
      ]
    },
    {
      "cell_type": "markdown",
      "metadata": {
        "id": "9J6SYY3l3XZS"
      },
      "source": [
        "```python\n",
        "# Author: Jake VanderPlas\n",
        "\n",
        "print(sum(range(5),-1))\n",
        "from numpy import *\n",
        "print(sum(range(5),-1))\n",
        "```"
      ]
    },
    {
      "cell_type": "code",
      "execution_count": null,
      "metadata": {
        "id": "k4uDP7tf3XZS",
        "outputId": "a2b7aadb-ddae-4dc2-e0b8-f0c94200852e",
        "colab": {
          "base_uri": "https://localhost:8080/"
        }
      },
      "outputs": [
        {
          "output_type": "stream",
          "name": "stdout",
          "text": [
            "9\n",
            "10\n"
          ]
        }
      ],
      "source": [
        "print(sum(range(5),-1))\n",
        "from numpy import *\n",
        "print(sum(range(5),-1))"
      ]
    },
    {
      "cell_type": "markdown",
      "metadata": {
        "id": "zN3mOKft3XZS"
      },
      "source": [
        "#### 27. Consider an integer vector Z, which of these expressions are legal? (★☆☆)"
      ]
    },
    {
      "cell_type": "markdown",
      "metadata": {
        "id": "mvKi95QC3XZS"
      },
      "source": [
        "```python\n",
        "Z**Z\n",
        "2 << Z >> 2\n",
        "Z <- Z\n",
        "1j*Z\n",
        "Z/1/1\n",
        "Z<Z>Z\n",
        "```"
      ]
    },
    {
      "cell_type": "code",
      "execution_count": 78,
      "metadata": {
        "id": "1-yhy2d53XZS",
        "outputId": "086ce63a-79c9-4bd3-e5a3-af9a31db29e8",
        "colab": {
          "base_uri": "https://localhost:8080/"
        }
      },
      "outputs": [
        {
          "output_type": "execute_result",
          "data": {
            "text/plain": [
              "array([False])"
            ]
          },
          "metadata": {},
          "execution_count": 78
        }
      ],
      "source": [
        "Z<Z>Z"
      ]
    },
    {
      "cell_type": "markdown",
      "metadata": {
        "id": "anh6_51B3XZS"
      },
      "source": [
        "#### 28. What are the result of the following expressions?"
      ]
    },
    {
      "cell_type": "markdown",
      "metadata": {
        "id": "PuUMSuZv3XZS"
      },
      "source": [
        "```python\n",
        "np.array(0) / np.array(0)\n",
        "np.array(0) // np.array(0)\n",
        "np.array([np.nan]).astype(int).astype(float)\n",
        "```"
      ]
    },
    {
      "cell_type": "code",
      "execution_count": null,
      "metadata": {
        "id": "Fol9Pq5H3XZS",
        "outputId": "2b1837b9-15f0-4558-84a9-219d5d9930d0",
        "colab": {
          "base_uri": "https://localhost:8080/"
        }
      },
      "outputs": [
        {
          "output_type": "execute_result",
          "data": {
            "text/plain": [
              "array([-9.22337204e+18])"
            ]
          },
          "metadata": {},
          "execution_count": 36
        }
      ],
      "source": [
        "np.array([np.nan]).astype(int).astype(float)"
      ]
    },
    {
      "cell_type": "markdown",
      "metadata": {
        "id": "mroMgyrS3XZT"
      },
      "source": [
        "#### 29. How to round away from zero a float array ? (★☆☆) \n",
        "(**hint**: np.uniform, np.copysign, np.ceil, np.abs)"
      ]
    },
    {
      "cell_type": "code",
      "execution_count": null,
      "metadata": {
        "id": "6XW88WfZ3XZT",
        "outputId": "20c0a505-3f09-4ed5-cce0-391a82381b48",
        "colab": {
          "base_uri": "https://localhost:8080/"
        }
      },
      "outputs": [
        {
          "output_type": "stream",
          "name": "stdout",
          "text": [
            "[[0.98891835 0.49174011 0.13634346 0.75119919 0.80042729]\n",
            " [0.9146285  0.10377045 0.15476425 0.60014373 0.41933586]\n",
            " [0.61342854 0.54759333 0.8935095  0.6093041  0.48208019]\n",
            " [0.63335806 0.07192081 0.8387384  0.72941362 0.73777626]\n",
            " [0.67563513 0.68203217 0.58224346 0.19258328 0.56852865]]\n",
            "[[0.99 0.49 0.14 0.75 0.8 ]\n",
            " [0.91 0.1  0.15 0.6  0.42]\n",
            " [0.61 0.55 0.89 0.61 0.48]\n",
            " [0.63 0.07 0.84 0.73 0.74]\n",
            " [0.68 0.68 0.58 0.19 0.57]]\n"
          ]
        }
      ],
      "source": [
        "arr = np.random.random((5,5))\n",
        "print(arr)\n",
        "arr = np.round(arr,2)\n",
        "print(arr) "
      ]
    },
    {
      "cell_type": "markdown",
      "metadata": {
        "id": "bOeJhOC53XZT"
      },
      "source": [
        "#### 30. How to find common values between two arrays? (★☆☆) \n",
        "(**hint**: np.intersect1d)"
      ]
    },
    {
      "cell_type": "code",
      "execution_count": 72,
      "metadata": {
        "id": "sA8FTdBX3XZT",
        "colab": {
          "base_uri": "https://localhost:8080/"
        },
        "outputId": "320b8fc8-cd3d-4914-9bfb-a2c9d32b27c6"
      },
      "outputs": [
        {
          "output_type": "stream",
          "name": "stdout",
          "text": [
            "[0 1 2 9]\n"
          ]
        }
      ],
      "source": [
        "Z1 = np.random.randint(0,10,10)\n",
        "Z2 = np.random.randint(0,10,10)\n",
        "print(np.intersect1d(Z1,Z2))"
      ]
    },
    {
      "cell_type": "markdown",
      "metadata": {
        "id": "3Y5Lrva93XZT"
      },
      "source": [
        "#### 31. How to ignore all numpy warnings (not recommended)? (★☆☆) \n",
        "(**hint**: np.seterr, np.errstate)"
      ]
    },
    {
      "cell_type": "code",
      "execution_count": 73,
      "metadata": {
        "id": "NXkTgFnF3XZT"
      },
      "outputs": [],
      "source": [
        "defaults = np.seterr(all=\"ignore\")\n",
        "Z = np.ones(1) / 0\n",
        "\n",
        "_ = np.seterr(**defaults)\n",
        "\n",
        "with np.errstate(all=\"ignore\"):\n",
        "    np.arange(3) / 0"
      ]
    },
    {
      "cell_type": "markdown",
      "metadata": {
        "id": "KslsTzec3XZT"
      },
      "source": [
        "#### 32. Is the following expressions true? (★☆☆) \n",
        "(**hint**: imaginary number)"
      ]
    },
    {
      "cell_type": "markdown",
      "metadata": {
        "id": "zpdCf2-S3XZT"
      },
      "source": [
        "```python\n",
        "np.sqrt(-1) == np.emath.sqrt(-1)\n",
        "```"
      ]
    },
    {
      "cell_type": "code",
      "execution_count": null,
      "metadata": {
        "id": "1tBu11Gv3XZT",
        "outputId": "c55415ee-ee3d-4e2b-9258-44eed5b6a6a1",
        "colab": {
          "base_uri": "https://localhost:8080/"
        }
      },
      "outputs": [
        {
          "output_type": "stream",
          "name": "stderr",
          "text": [
            "/usr/local/lib/python3.7/dist-packages/ipykernel_launcher.py:1: RuntimeWarning: invalid value encountered in sqrt\n",
            "  \"\"\"Entry point for launching an IPython kernel.\n"
          ]
        },
        {
          "output_type": "execute_result",
          "data": {
            "text/plain": [
              "False"
            ]
          },
          "metadata": {},
          "execution_count": 38
        }
      ],
      "source": [
        "np.sqrt(-1) == np.emath.sqrt(-1)"
      ]
    },
    {
      "cell_type": "markdown",
      "metadata": {
        "id": "CKVOx_s-3XZT"
      },
      "source": [
        "#### 33. How to get the dates of yesterday, today and tomorrow? (★☆☆) \n",
        "(**hint**: np.datetime64, np.timedelta64)"
      ]
    },
    {
      "cell_type": "code",
      "execution_count": null,
      "metadata": {
        "collapsed": true,
        "id": "rOGmKkPZ3XZU"
      },
      "outputs": [],
      "source": [
        "yesterday = np.datetime64('today', 'D') - np.timedelta64(1, 'D')\n",
        "today     = np.datetime64('today', 'D')\n",
        "tomorrow  = np.datetime64('today', 'D') + np.timedelta64(1, 'D')"
      ]
    },
    {
      "cell_type": "markdown",
      "metadata": {
        "id": "eqglAgZu3XZU"
      },
      "source": [
        "#### 34. How to get all the dates corresponding to the month of July 2016? (★★☆) \n",
        "(**hint**: np.arange(dtype=datetime64\\['D'\\]))"
      ]
    },
    {
      "cell_type": "code",
      "execution_count": null,
      "metadata": {
        "id": "iamXqazP3XZU",
        "outputId": "74bdfc48-2794-429d-c62f-ef2d63eae875",
        "colab": {
          "base_uri": "https://localhost:8080/"
        }
      },
      "outputs": [
        {
          "output_type": "stream",
          "name": "stdout",
          "text": [
            "['2016-07-01' '2016-07-02' '2016-07-03' '2016-07-04' '2016-07-05'\n",
            " '2016-07-06' '2016-07-07' '2016-07-08' '2016-07-09' '2016-07-10'\n",
            " '2016-07-11' '2016-07-12' '2016-07-13' '2016-07-14' '2016-07-15'\n",
            " '2016-07-16' '2016-07-17' '2016-07-18' '2016-07-19' '2016-07-20'\n",
            " '2016-07-21' '2016-07-22' '2016-07-23' '2016-07-24' '2016-07-25'\n",
            " '2016-07-26' '2016-07-27' '2016-07-28' '2016-07-29' '2016-07-30'\n",
            " '2016-07-31']\n"
          ]
        }
      ],
      "source": [
        "Z = np.arange('2016-07', '2016-08', dtype='datetime64[D]')\n",
        "print(Z)"
      ]
    },
    {
      "cell_type": "markdown",
      "metadata": {
        "id": "LQ8dvXvt3XZU"
      },
      "source": [
        "#### 35. How to compute ((A+B)\\*(-A/2)) in place (without copy)? (★★☆) \n",
        "(**hint**: np.add(out=), np.negative(out=), np.multiply(out=), np.divide(out=))"
      ]
    },
    {
      "cell_type": "code",
      "execution_count": null,
      "metadata": {
        "id": "L7G3l2To3XZV",
        "outputId": "cef97ad9-4e1e-4107-f6ee-3383258ac671",
        "colab": {
          "base_uri": "https://localhost:8080/"
        }
      },
      "outputs": [
        {
          "output_type": "execute_result",
          "data": {
            "text/plain": [
              "-4.5"
            ]
          },
          "metadata": {},
          "execution_count": 43
        }
      ],
      "source": [
        "A = np.ones(3)*1\n",
        "B = np.ones(3)*2\n",
        "C = np.ones(3)*3\n",
        "np.add(A,B,out=B)\n",
        "np.divide(A,2,out=A)\n",
        "np.negative(A,out=A)\n",
        "np.dot(A,B)"
      ]
    },
    {
      "cell_type": "markdown",
      "metadata": {
        "id": "pN-y98NO3XZV"
      },
      "source": [
        "#### 36. Extract the integer part of a random array using 5 different methods (★★☆) \n",
        "(**hint**: %, np.floor, np.ceil, astype, np.trunc)"
      ]
    },
    {
      "cell_type": "code",
      "execution_count": null,
      "metadata": {
        "id": "tEtP-6g73XZV",
        "outputId": "911ac40d-00ad-4e11-831c-0c0870552028",
        "colab": {
          "base_uri": "https://localhost:8080/"
        }
      },
      "outputs": [
        {
          "output_type": "stream",
          "name": "stdout",
          "text": [
            "[9. 3. 7. 1. 2. 4. 4. 3. 5. 9.]\n",
            "[9. 3. 7. 1. 2. 4. 4. 3. 5. 9.]\n",
            "[9. 3. 7. 1. 2. 4. 4. 3. 5. 9.]\n",
            "[9 3 7 1 2 4 4 3 5 9]\n",
            "[9. 3. 7. 1. 2. 4. 4. 3. 5. 9.]\n"
          ]
        }
      ],
      "source": [
        "Z = np.random.uniform(0,10,10)\n",
        "\n",
        "print (Z - Z%1)\n",
        "print (np.floor(Z))\n",
        "print (np.ceil(Z)-1)\n",
        "print (Z.astype(int))\n",
        "print (np.trunc(Z))"
      ]
    },
    {
      "cell_type": "markdown",
      "metadata": {
        "id": "upu1zJzn3XZV"
      },
      "source": [
        "#### 37. Create a 5x5 matrix with row values ranging from 0 to 4 (★★☆) \n",
        "(**hint**: np.arange)"
      ]
    },
    {
      "cell_type": "code",
      "execution_count": null,
      "metadata": {
        "id": "aPC9OZti3XZV",
        "outputId": "fc20243b-3eab-4349-b1e9-5c92e6c3990f",
        "colab": {
          "base_uri": "https://localhost:8080/"
        }
      },
      "outputs": [
        {
          "output_type": "stream",
          "name": "stdout",
          "text": [
            "[[0. 1. 2. 3. 4.]\n",
            " [0. 1. 2. 3. 4.]\n",
            " [0. 1. 2. 3. 4.]\n",
            " [0. 1. 2. 3. 4.]\n",
            " [0. 1. 2. 3. 4.]]\n"
          ]
        }
      ],
      "source": [
        "Z = np.zeros((5,5))\n",
        "Z += np.arange(5)\n",
        "print(Z)"
      ]
    },
    {
      "cell_type": "markdown",
      "metadata": {
        "id": "hW50cgWX3XZW"
      },
      "source": [
        "#### 38. Consider a generator function that generates 10 integers and use it to build an array (★☆☆) \n",
        "(**hint**: np.fromiter)"
      ]
    },
    {
      "cell_type": "code",
      "execution_count": null,
      "metadata": {
        "id": "NJ8ddxsD3XZW",
        "outputId": "3087b547-ef68-42cd-960d-8fcf614ee2a9",
        "colab": {
          "base_uri": "https://localhost:8080/"
        }
      },
      "outputs": [
        {
          "output_type": "stream",
          "name": "stdout",
          "text": [
            "[0. 1. 2. 3. 4. 5. 6. 7. 8. 9.]\n"
          ]
        }
      ],
      "source": [
        "def generate():\n",
        "    for x in range(10):\n",
        "        yield x\n",
        "Z = np.fromiter(generate(),dtype=float,count=-1)\n",
        "print(Z)"
      ]
    },
    {
      "cell_type": "markdown",
      "metadata": {
        "id": "jFtaFmb43XZW"
      },
      "source": [
        "#### 39. Create a vector of size 10 with values ranging from 0 to 1, both excluded (★★☆) \n",
        "(**hint**: np.linspace)"
      ]
    },
    {
      "cell_type": "code",
      "execution_count": 8,
      "metadata": {
        "id": "eh3vqAGY3XZW",
        "outputId": "6a178fdd-a88f-4a5a-a9c2-392bc4c83e03",
        "colab": {
          "base_uri": "https://localhost:8080/"
        }
      },
      "outputs": [
        {
          "output_type": "stream",
          "name": "stdout",
          "text": [
            "[0.09090909 0.18181818 0.27272727 0.36363636 0.45454545 0.54545455\n",
            " 0.63636364 0.72727273 0.81818182 0.90909091]\n"
          ]
        }
      ],
      "source": [
        "Z = np.linspace(0,1,11,endpoint=False)[1:]\n",
        "print(Z)"
      ]
    },
    {
      "cell_type": "markdown",
      "metadata": {
        "id": "0YJWwezV3XZW"
      },
      "source": [
        "#### 40. Create a random vector of size 10 and sort it (★★☆) \n",
        "(**hint**: sort)"
      ]
    },
    {
      "cell_type": "code",
      "execution_count": 9,
      "metadata": {
        "id": "1H3GJwTq3XZW",
        "colab": {
          "base_uri": "https://localhost:8080/"
        },
        "outputId": "7f10260f-2fcf-4aaa-a8f8-573703de3e40"
      },
      "outputs": [
        {
          "output_type": "stream",
          "name": "stdout",
          "text": [
            "[0.09172234 0.24027442 0.2624802  0.32455883 0.64685749 0.77380183\n",
            " 0.79415775 0.83489679 0.87594243 0.88472873]\n"
          ]
        }
      ],
      "source": [
        "Z = np.random.random(10)\n",
        "Z.sort()\n",
        "print(Z)"
      ]
    },
    {
      "cell_type": "markdown",
      "metadata": {
        "id": "NB4LBe1O3XZW"
      },
      "source": [
        "#### 41. How to sum a small array faster than np.sum? (★★☆) \n",
        "(**hint**: np.add.reduce)"
      ]
    },
    {
      "cell_type": "code",
      "execution_count": null,
      "metadata": {
        "id": "F9a0oEqp3XZW",
        "outputId": "4708e540-0c2a-40fd-8010-d54cc6f34c0b",
        "colab": {
          "base_uri": "https://localhost:8080/"
        }
      },
      "outputs": [
        {
          "output_type": "execute_result",
          "data": {
            "text/plain": [
              "45"
            ]
          },
          "metadata": {},
          "execution_count": 48
        }
      ],
      "source": [
        "import functools as ft\n",
        "Z = np.arange(10)\n",
        "#np.add.reduce(Z)\n",
        "ft.reduce(np.add,Z,0)"
      ]
    },
    {
      "cell_type": "markdown",
      "metadata": {
        "id": "TbTb8EWz3XZW"
      },
      "source": [
        "#### 42. Consider two random array A and B, check if they are equal (★★☆) \n",
        "(**hint**: np.allclose, np.array\\_equal)"
      ]
    },
    {
      "cell_type": "code",
      "execution_count": null,
      "metadata": {
        "id": "YhEZkZpB3XZW",
        "outputId": "231e3d10-fe69-4985-c308-1a0e7faf9baf",
        "colab": {
          "base_uri": "https://localhost:8080/"
        }
      },
      "outputs": [
        {
          "output_type": "stream",
          "name": "stdout",
          "text": [
            "[1 1 1 1 0]\n",
            "[1 1 0 1 0]\n",
            "False\n"
          ]
        }
      ],
      "source": [
        "A = np.random.randint(0,2,5)\n",
        "B = np.random.randint(0,2,5)\n",
        "print(A)\n",
        "print(B)\n",
        "equal = np.array_equal(A,B)\n",
        "print(equal)"
      ]
    },
    {
      "cell_type": "markdown",
      "metadata": {
        "id": "Hqw6pUtE3XZX"
      },
      "source": [
        "#### 43. Make an array immutable (read-only) (★★☆) \n",
        "(**hint**: flags.writeable)"
      ]
    },
    {
      "cell_type": "code",
      "execution_count": null,
      "metadata": {
        "id": "mmioMKGy3XZX"
      },
      "outputs": [],
      "source": [
        "Z = np.zeros(10)\n",
        "Z.flags.writeable = False"
      ]
    },
    {
      "cell_type": "markdown",
      "metadata": {
        "id": "mweiAJRt3XZX"
      },
      "source": [
        "#### 44. Consider a random 10x2 matrix representing cartesian coordinates, convert them to polar coordinates (★★☆) \n",
        "(**hint**: np.sqrt, np.arctan2)"
      ]
    },
    {
      "cell_type": "code",
      "execution_count": null,
      "metadata": {
        "id": "BggVGLAI3XZX",
        "outputId": "db9fd14d-7e05-4af6-fdbb-5a9aac8746d6",
        "colab": {
          "base_uri": "https://localhost:8080/"
        }
      },
      "outputs": [
        {
          "output_type": "stream",
          "name": "stdout",
          "text": [
            "[[6.40312424 0.89605538]\n",
            " [6.08276253 1.40564765]\n",
            " [7.61577311 0.40489179]\n",
            " [1.         0.        ]\n",
            " [0.         0.        ]\n",
            " [4.12310563 0.24497866]\n",
            " [3.         1.57079633]\n",
            " [5.83095189 0.5404195 ]\n",
            " [7.         0.        ]\n",
            " [2.23606798 1.10714872]]\n"
          ]
        }
      ],
      "source": [
        "z= np.random.randint(0,9,(10,2))\n",
        "x,y = z[:,0], z[:,1]\n",
        "r = np.sqrt(x**2+y**2)\n",
        "t = np.arctan2(y,x)\n",
        "poles = np.c_[r,t]\n",
        "print(poles)"
      ]
    },
    {
      "cell_type": "markdown",
      "metadata": {
        "id": "tKg5pvpf3XZX"
      },
      "source": [
        "#### 45. Create random vector of size 10 and replace the maximum value by 0 (★★☆) \n",
        "(**hint**: argmax)"
      ]
    },
    {
      "cell_type": "code",
      "execution_count": null,
      "metadata": {
        "id": "oVIUOAw93XZX",
        "outputId": "69cd987c-913e-4b50-8501-72ad82c6994e",
        "colab": {
          "base_uri": "https://localhost:8080/"
        }
      },
      "outputs": [
        {
          "output_type": "stream",
          "name": "stdout",
          "text": [
            "[0.58208582 0.9319647  0.36762947 0.53578114 0.49026076 0.18920374\n",
            " 0.68342576 0.29041156 0.01211318 0.75019563]\n",
            "[0.58208582 0.         0.36762947 0.53578114 0.49026076 0.18920374\n",
            " 0.68342576 0.29041156 0.01211318 0.75019563]\n"
          ]
        }
      ],
      "source": [
        "arr = np.random.random(10)\n",
        "print(arr)\n",
        "arr[arr.argmax()] = 0\n",
        "print(arr)"
      ]
    },
    {
      "cell_type": "markdown",
      "metadata": {
        "id": "Mc1C5WSj3XZX"
      },
      "source": [
        "#### 46. Create a structured array with `x` and `y` coordinates covering the \\[0,1\\]x\\[0,1\\] area (★★☆) \n",
        "(**hint**: np.meshgrid)"
      ]
    },
    {
      "cell_type": "code",
      "execution_count": null,
      "metadata": {
        "id": "HFmr5pOR3XZX",
        "outputId": "1e296485-bfc0-479e-fe49-5ba07b5bffc2",
        "colab": {
          "base_uri": "https://localhost:8080/"
        }
      },
      "outputs": [
        {
          "output_type": "stream",
          "name": "stdout",
          "text": [
            "[[(0.        , 0.        ) (0.11111111, 0.        )\n",
            "  (0.22222222, 0.        ) (0.33333333, 0.        )\n",
            "  (0.44444444, 0.        ) (0.55555556, 0.        )\n",
            "  (0.66666667, 0.        ) (0.77777778, 0.        )\n",
            "  (0.88888889, 0.        ) (1.        , 0.        )]\n",
            " [(0.        , 0.11111111) (0.11111111, 0.11111111)\n",
            "  (0.22222222, 0.11111111) (0.33333333, 0.11111111)\n",
            "  (0.44444444, 0.11111111) (0.55555556, 0.11111111)\n",
            "  (0.66666667, 0.11111111) (0.77777778, 0.11111111)\n",
            "  (0.88888889, 0.11111111) (1.        , 0.11111111)]\n",
            " [(0.        , 0.22222222) (0.11111111, 0.22222222)\n",
            "  (0.22222222, 0.22222222) (0.33333333, 0.22222222)\n",
            "  (0.44444444, 0.22222222) (0.55555556, 0.22222222)\n",
            "  (0.66666667, 0.22222222) (0.77777778, 0.22222222)\n",
            "  (0.88888889, 0.22222222) (1.        , 0.22222222)]\n",
            " [(0.        , 0.33333333) (0.11111111, 0.33333333)\n",
            "  (0.22222222, 0.33333333) (0.33333333, 0.33333333)\n",
            "  (0.44444444, 0.33333333) (0.55555556, 0.33333333)\n",
            "  (0.66666667, 0.33333333) (0.77777778, 0.33333333)\n",
            "  (0.88888889, 0.33333333) (1.        , 0.33333333)]\n",
            " [(0.        , 0.44444444) (0.11111111, 0.44444444)\n",
            "  (0.22222222, 0.44444444) (0.33333333, 0.44444444)\n",
            "  (0.44444444, 0.44444444) (0.55555556, 0.44444444)\n",
            "  (0.66666667, 0.44444444) (0.77777778, 0.44444444)\n",
            "  (0.88888889, 0.44444444) (1.        , 0.44444444)]\n",
            " [(0.        , 0.55555556) (0.11111111, 0.55555556)\n",
            "  (0.22222222, 0.55555556) (0.33333333, 0.55555556)\n",
            "  (0.44444444, 0.55555556) (0.55555556, 0.55555556)\n",
            "  (0.66666667, 0.55555556) (0.77777778, 0.55555556)\n",
            "  (0.88888889, 0.55555556) (1.        , 0.55555556)]\n",
            " [(0.        , 0.66666667) (0.11111111, 0.66666667)\n",
            "  (0.22222222, 0.66666667) (0.33333333, 0.66666667)\n",
            "  (0.44444444, 0.66666667) (0.55555556, 0.66666667)\n",
            "  (0.66666667, 0.66666667) (0.77777778, 0.66666667)\n",
            "  (0.88888889, 0.66666667) (1.        , 0.66666667)]\n",
            " [(0.        , 0.77777778) (0.11111111, 0.77777778)\n",
            "  (0.22222222, 0.77777778) (0.33333333, 0.77777778)\n",
            "  (0.44444444, 0.77777778) (0.55555556, 0.77777778)\n",
            "  (0.66666667, 0.77777778) (0.77777778, 0.77777778)\n",
            "  (0.88888889, 0.77777778) (1.        , 0.77777778)]\n",
            " [(0.        , 0.88888889) (0.11111111, 0.88888889)\n",
            "  (0.22222222, 0.88888889) (0.33333333, 0.88888889)\n",
            "  (0.44444444, 0.88888889) (0.55555556, 0.88888889)\n",
            "  (0.66666667, 0.88888889) (0.77777778, 0.88888889)\n",
            "  (0.88888889, 0.88888889) (1.        , 0.88888889)]\n",
            " [(0.        , 1.        ) (0.11111111, 1.        )\n",
            "  (0.22222222, 1.        ) (0.33333333, 1.        )\n",
            "  (0.44444444, 1.        ) (0.55555556, 1.        )\n",
            "  (0.66666667, 1.        ) (0.77777778, 1.        )\n",
            "  (0.88888889, 1.        ) (1.        , 1.        )]]\n"
          ]
        }
      ],
      "source": [
        "Z = np.zeros((10,10), [('x',float),('y',float)])\n",
        "Z['x'], Z['y'] = np.meshgrid(np.linspace(0,1,10),\n",
        "                             np.linspace(0,1,10))\n",
        "print(Z)"
      ]
    },
    {
      "cell_type": "markdown",
      "metadata": {
        "id": "EZfhl77j3XZX"
      },
      "source": [
        "####  47. Given two arrays, X and Y, construct the Cauchy matrix C (Cij =1/(xi - yj)) \n",
        "(**hint**: np.subtract.outer)"
      ]
    },
    {
      "cell_type": "code",
      "execution_count": null,
      "metadata": {
        "id": "wEpN5EoB3XZX",
        "outputId": "1ee4aec3-55bd-4cb0-bcc9-867ba883bd06",
        "colab": {
          "base_uri": "https://localhost:8080/"
        }
      },
      "outputs": [
        {
          "output_type": "stream",
          "name": "stdout",
          "text": [
            "3638.163637117973\n"
          ]
        }
      ],
      "source": [
        "X = np.arange(8)\n",
        "Y = X + 0.5\n",
        "C = 1.0 / np.subtract.outer(X, Y)\n",
        "print(np.linalg.det(C))"
      ]
    },
    {
      "cell_type": "markdown",
      "metadata": {
        "id": "S-Zclx5m3XZY"
      },
      "source": [
        "#### 48. Print the minimum and maximum representable value for each numpy scalar type (★★☆) \n",
        "(**hint**: np.iinfo, np.finfo, eps)"
      ]
    },
    {
      "cell_type": "code",
      "execution_count": null,
      "metadata": {
        "id": "oVNy4BPr3XZY",
        "outputId": "685fa57f-0822-4ceb-9092-e4c30512eb9f",
        "colab": {
          "base_uri": "https://localhost:8080/"
        }
      },
      "outputs": [
        {
          "output_type": "stream",
          "name": "stdout",
          "text": [
            "-128\n",
            "127\n",
            "-2147483648\n",
            "2147483647\n",
            "-9223372036854775808\n",
            "9223372036854775807\n",
            "-3.4028235e+38\n",
            "3.4028235e+38\n",
            "1.1920929e-07\n",
            "-1.7976931348623157e+308\n",
            "1.7976931348623157e+308\n",
            "2.220446049250313e-16\n"
          ]
        }
      ],
      "source": [
        "for dtype in [np.int8, np.int32, np.int64]:\n",
        "   print(np.iinfo(dtype).min)\n",
        "   print(np.iinfo(dtype).max)\n",
        "for dtype in [np.float32, np.float64]:\n",
        "   print(np.finfo(dtype).min)\n",
        "   print(np.finfo(dtype).max)\n",
        "   print(np.finfo(dtype).eps)"
      ]
    },
    {
      "cell_type": "markdown",
      "metadata": {
        "id": "7O8jfNgq3XZY"
      },
      "source": [
        "#### 49. How to print all the values of an array? (★★☆) \n",
        "(**hint**: np.set\\_printoptions)"
      ]
    },
    {
      "cell_type": "code",
      "execution_count": null,
      "metadata": {
        "id": "j3V_suze3XZY",
        "outputId": "d0874dc1-deec-4f48-b745-26201daf3118",
        "colab": {
          "base_uri": "https://localhost:8080/"
        }
      },
      "outputs": [
        {
          "output_type": "stream",
          "name": "stdout",
          "text": [
            "[[0. 0. 0. 0. 0. 0. 0. 0. 0. 0.]\n",
            " [0. 0. 0. 0. 0. 0. 0. 0. 0. 0.]\n",
            " [0. 0. 0. 0. 0. 0. 0. 0. 0. 0.]\n",
            " [0. 0. 0. 0. 0. 0. 0. 0. 0. 0.]\n",
            " [0. 0. 0. 0. 0. 0. 0. 0. 0. 0.]\n",
            " [0. 0. 0. 0. 0. 0. 0. 0. 0. 0.]\n",
            " [0. 0. 0. 0. 0. 0. 0. 0. 0. 0.]\n",
            " [0. 0. 0. 0. 0. 0. 0. 0. 0. 0.]\n",
            " [0. 0. 0. 0. 0. 0. 0. 0. 0. 0.]\n",
            " [0. 0. 0. 0. 0. 0. 0. 0. 0. 0.]]\n"
          ]
        }
      ],
      "source": [
        "np.set_printoptions(threshold=float(\"inf\"))\n",
        "Z = np.zeros((10,10))\n",
        "print(Z)"
      ]
    },
    {
      "cell_type": "markdown",
      "metadata": {
        "id": "8T-TEdmS3XZY"
      },
      "source": [
        "#### 50. How to find the closest value (to a given scalar) in a vector? (★★☆) \n",
        "(**hint**: argmin)"
      ]
    },
    {
      "cell_type": "code",
      "execution_count": null,
      "metadata": {
        "id": "ZN04AqCj3XZY",
        "outputId": "92c7d93b-ba73-4998-8145-eebab1222c35",
        "colab": {
          "base_uri": "https://localhost:8080/"
        }
      },
      "outputs": [
        {
          "output_type": "stream",
          "name": "stdout",
          "text": [
            "75\n"
          ]
        }
      ],
      "source": [
        "Z = np.arange(100)\n",
        "v = np.random.uniform(0,100)\n",
        "index = (np.abs(Z-v)).argmin()\n",
        "print(Z[index])"
      ]
    },
    {
      "cell_type": "markdown",
      "metadata": {
        "id": "uPjY3v463XZY"
      },
      "source": [
        "#### 51. Create a structured array representing a position (x,y) and a color (r,g,b) (★★☆) \n",
        "(**hint**: dtype)"
      ]
    },
    {
      "cell_type": "code",
      "execution_count": null,
      "metadata": {
        "id": "btyahNUs3XZY",
        "outputId": "cff88723-315e-4147-af84-aee699ecb9fc",
        "colab": {
          "base_uri": "https://localhost:8080/"
        }
      },
      "outputs": [
        {
          "output_type": "stream",
          "name": "stdout",
          "text": [
            "[((0., 0.), (0., 0., 0.)) ((0., 0.), (0., 0., 0.))\n",
            " ((0., 0.), (0., 0., 0.)) ((0., 0.), (0., 0., 0.))\n",
            " ((0., 0.), (0., 0., 0.)) ((0., 0.), (0., 0., 0.))\n",
            " ((0., 0.), (0., 0., 0.)) ((0., 0.), (0., 0., 0.))\n",
            " ((0., 0.), (0., 0., 0.)) ((0., 0.), (0., 0., 0.))]\n"
          ]
        }
      ],
      "source": [
        "Z = np.zeros(10, [ ('position', [ ('x', float),\n",
        "                                  ('y', float)]),\n",
        "                   ('color',    [ ('r', float),\n",
        "                                  ('g', float),\n",
        "                                  ('b', float)])])\n",
        "print(Z)"
      ]
    },
    {
      "cell_type": "markdown",
      "metadata": {
        "id": "sIS_1wMg3XZY"
      },
      "source": [
        "#### 52. Consider a random vector with shape (100,2) representing coordinates, find point by point distances (★★☆) \n",
        "(**hint**: np.atleast\\_2d, T, np.sqrt)"
      ]
    },
    {
      "cell_type": "code",
      "execution_count": null,
      "metadata": {
        "id": "pJvYZ8qi3XZZ",
        "outputId": "df69317d-8953-43de-b77f-5010ec6999d3",
        "colab": {
          "base_uri": "https://localhost:8080/"
        }
      },
      "outputs": [
        {
          "output_type": "stream",
          "name": "stdout",
          "text": [
            "[[0.         0.62193499 0.26370809 0.84061084 0.57220981 0.1308126\n",
            "  0.69527681 0.16309196 0.36894474 0.71467902]\n",
            " [0.62193499 0.         0.35881172 0.270775   0.39588414 0.49753505\n",
            "  0.77865951 0.7746906  0.41612248 0.26106735]\n",
            " [0.26370809 0.35881172 0.         0.58246276 0.38909696 0.14628121\n",
            "  0.65080331 0.41656039 0.22622783 0.47140192]\n",
            " [0.84061084 0.270775   0.58246276 0.         0.40942662 0.7286158\n",
            "  0.77311282 0.97773236 0.5416517  0.16966041]\n",
            " [0.57220981 0.39588414 0.38909696 0.40942662 0.         0.50751361\n",
            "  0.38676723 0.66578528 0.20383992 0.23978438]\n",
            " [0.1308126  0.49753505 0.14628121 0.7286158  0.50751361 0.\n",
            "  0.70360571 0.29337076 0.31592021 0.61548576]\n",
            " [0.69527681 0.77865951 0.65080331 0.77311282 0.38676723 0.70360571\n",
            "  0.         0.69952762 0.42885261 0.60882342]\n",
            " [0.16309196 0.7746906  0.41656039 0.97773236 0.66578528 0.29337076\n",
            "  0.69952762 0.         0.4655241  0.83952767]\n",
            " [0.36894474 0.41612248 0.22622783 0.5416517  0.20383992 0.31592021\n",
            "  0.42885261 0.4655241  0.         0.38604448]\n",
            " [0.71467902 0.26106735 0.47140192 0.16966041 0.23978438 0.61548576\n",
            "  0.60882342 0.83952767 0.38604448 0.        ]]\n"
          ]
        }
      ],
      "source": [
        "arr = np.random.random((100,2))\n",
        "X,Y = np.atleast_2d(arr[:,0],arr[:,1])\n",
        "D = np.sqrt( (X-X.T)**2 + (Y-Y.T)**2)\n",
        "\n",
        "import scipy\n",
        "import scipy.spatial\n",
        "\n",
        "Z = np.random.random((10,2))\n",
        "D = scipy.spatial.distance.cdist(Z,Z)\n",
        "print(D)"
      ]
    },
    {
      "cell_type": "markdown",
      "metadata": {
        "id": "aGwvdAwC3XZZ"
      },
      "source": [
        "#### 53. How to convert a float (32 bits) array into an integer (32 bits) in place? \n",
        "(**hint**: astype(copy=False))"
      ]
    },
    {
      "cell_type": "code",
      "execution_count": null,
      "metadata": {
        "id": "rUa4ImLN3XZZ",
        "outputId": "8806c05b-abaf-4f48-d072-98a575d5baa4",
        "colab": {
          "base_uri": "https://localhost:8080/"
        }
      },
      "outputs": [
        {
          "output_type": "stream",
          "name": "stdout",
          "text": [
            "[2. 1. 2. 3. 4. 5. 6. 7. 8. 9.]\n"
          ]
        }
      ],
      "source": [
        "Z = np.arange(10, dtype=np.float32)\n",
        "Z_1 = Z.astype(np.float32, copy=False)\n",
        "Z_1[0] = 2\n",
        "print(Z)"
      ]
    },
    {
      "cell_type": "markdown",
      "metadata": {
        "id": "u5NuYLyl3XZZ"
      },
      "source": [
        "#### 54. How to read the following file? (★★☆) \n",
        "(**hint**: np.genfromtxt)"
      ]
    },
    {
      "cell_type": "markdown",
      "metadata": {
        "id": "I48lS2393XZZ"
      },
      "source": [
        "```\n",
        "1, 2, 3, 4, 5\n",
        "6,  ,  , 7, 8\n",
        " ,  , 9,10,11\n",
        "```"
      ]
    },
    {
      "cell_type": "code",
      "execution_count": 12,
      "metadata": {
        "id": "9T_iQW-V3XZZ",
        "colab": {
          "base_uri": "https://localhost:8080/"
        },
        "outputId": "67689dd7-bb1e-4068-bc8f-fff7981b821c"
      },
      "outputs": [
        {
          "output_type": "stream",
          "name": "stdout",
          "text": [
            "[[ 1  2  3  4  5]\n",
            " [ 6 -1 -1  7  8]\n",
            " [-1 -1  9 10 11]]\n"
          ]
        },
        {
          "output_type": "stream",
          "name": "stderr",
          "text": [
            "/usr/local/lib/python3.7/dist-packages/ipykernel_launcher.py:7: DeprecationWarning: `np.int` is a deprecated alias for the builtin `int`. To silence this warning, use `int` by itself. Doing this will not modify any behavior and is safe. When replacing `np.int`, you may wish to use e.g. `np.int64` or `np.int32` to specify the precision. If you wish to review your current use, check the release note link for additional information.\n",
            "Deprecated in NumPy 1.20; for more details and guidance: https://numpy.org/devdocs/release/1.20.0-notes.html#deprecations\n",
            "  import sys\n"
          ]
        }
      ],
      "source": [
        "from io import StringIO\n",
        "\n",
        "# Fake file \n",
        "s = StringIO(\"\"\"1, 2, 3, 4, 5\\n\n",
        "                6,  ,  , 7, 8\\n\n",
        "                 ,  , 9,10,11\\n\"\"\")\n",
        "Z = np.genfromtxt(s, delimiter=\",\", dtype=np.int)\n",
        "print(Z)"
      ]
    },
    {
      "cell_type": "markdown",
      "metadata": {
        "id": "zH9qUpFr3XZZ"
      },
      "source": [
        "#### 55. What is the equivalent of enumerate for numpy arrays? (★★☆) \n",
        "(**hint**: np.ndenumerate, np.ndindex)"
      ]
    },
    {
      "cell_type": "code",
      "execution_count": 13,
      "metadata": {
        "id": "5KkH20HJ3XZZ",
        "colab": {
          "base_uri": "https://localhost:8080/"
        },
        "outputId": "cbdd1a2f-4043-4bee-dbc0-6dcfa0c24b35"
      },
      "outputs": [
        {
          "output_type": "stream",
          "name": "stdout",
          "text": [
            "(0, 0) 0\n",
            "(0, 1) 1\n",
            "(0, 2) 2\n",
            "(1, 0) 3\n",
            "(1, 1) 4\n",
            "(1, 2) 5\n",
            "(2, 0) 6\n",
            "(2, 1) 7\n",
            "(2, 2) 8\n",
            "(0, 0) 0\n",
            "(0, 1) 1\n",
            "(0, 2) 2\n",
            "(1, 0) 3\n",
            "(1, 1) 4\n",
            "(1, 2) 5\n",
            "(2, 0) 6\n",
            "(2, 1) 7\n",
            "(2, 2) 8\n"
          ]
        }
      ],
      "source": [
        "Z = np.arange(9).reshape(3,3)\n",
        "for index, value in np.ndenumerate(Z):\n",
        "    print(index, value)\n",
        "for index in np.ndindex(Z.shape):\n",
        "    print(index, Z[index])"
      ]
    },
    {
      "cell_type": "markdown",
      "metadata": {
        "id": "HF_BrxyZ3XZZ"
      },
      "source": [
        "#### 56. Generate a generic 2D Gaussian-like array (★★☆) \n",
        "(**hint**: np.meshgrid, np.exp)"
      ]
    },
    {
      "cell_type": "code",
      "execution_count": 14,
      "metadata": {
        "id": "L0Dcb5Sp3XZa",
        "colab": {
          "base_uri": "https://localhost:8080/"
        },
        "outputId": "1323fda1-13ee-40b2-bb16-b4f1d17b6671"
      },
      "outputs": [
        {
          "output_type": "stream",
          "name": "stdout",
          "text": [
            "[[0.36787944 0.44822088 0.51979489 0.57375342 0.60279818 0.60279818\n",
            "  0.57375342 0.51979489 0.44822088 0.36787944]\n",
            " [0.44822088 0.54610814 0.63331324 0.69905581 0.73444367 0.73444367\n",
            "  0.69905581 0.63331324 0.54610814 0.44822088]\n",
            " [0.51979489 0.63331324 0.73444367 0.81068432 0.85172308 0.85172308\n",
            "  0.81068432 0.73444367 0.63331324 0.51979489]\n",
            " [0.57375342 0.69905581 0.81068432 0.89483932 0.9401382  0.9401382\n",
            "  0.89483932 0.81068432 0.69905581 0.57375342]\n",
            " [0.60279818 0.73444367 0.85172308 0.9401382  0.98773022 0.98773022\n",
            "  0.9401382  0.85172308 0.73444367 0.60279818]\n",
            " [0.60279818 0.73444367 0.85172308 0.9401382  0.98773022 0.98773022\n",
            "  0.9401382  0.85172308 0.73444367 0.60279818]\n",
            " [0.57375342 0.69905581 0.81068432 0.89483932 0.9401382  0.9401382\n",
            "  0.89483932 0.81068432 0.69905581 0.57375342]\n",
            " [0.51979489 0.63331324 0.73444367 0.81068432 0.85172308 0.85172308\n",
            "  0.81068432 0.73444367 0.63331324 0.51979489]\n",
            " [0.44822088 0.54610814 0.63331324 0.69905581 0.73444367 0.73444367\n",
            "  0.69905581 0.63331324 0.54610814 0.44822088]\n",
            " [0.36787944 0.44822088 0.51979489 0.57375342 0.60279818 0.60279818\n",
            "  0.57375342 0.51979489 0.44822088 0.36787944]]\n"
          ]
        }
      ],
      "source": [
        "sigma,myu = 1.0,0.0\n",
        "\n",
        "X,Y  = np.meshgrid(np.linspace(-1,1,10),np.linspace(-1,1,10))\n",
        "D = np.sqrt(X**2+Y**2)\n",
        "G = np.exp(-(D-myu)**2/(2*sigma**2))\n",
        "print(G)"
      ]
    },
    {
      "cell_type": "markdown",
      "metadata": {
        "id": "oHTMztwT3XZa"
      },
      "source": [
        "#### 57. How to randomly place p elements in a 2D array? (★★☆) \n",
        "(**hint**: np.put, np.random.choice)"
      ]
    },
    {
      "cell_type": "code",
      "execution_count": 21,
      "metadata": {
        "id": "MrIyQYXe3XZa",
        "colab": {
          "base_uri": "https://localhost:8080/"
        },
        "outputId": "c537355b-57ad-4514-c083-d754636273f7"
      },
      "outputs": [
        {
          "output_type": "stream",
          "name": "stdout",
          "text": [
            "[[0. 0. 0. 0. 0. 0. 0. 0. 0. 0.]\n",
            " [0. 0. 0. 0. 0. 0. 0. 0. 0. 0.]\n",
            " [0. 0. 0. 0. 0. 0. 0. 0. 0. 0.]\n",
            " [0. 0. 0. 0. 0. 0. 0. 0. 0. 0.]\n",
            " [0. 0. 0. 0. 0. 0. 0. 0. 3. 0.]\n",
            " [0. 0. 0. 0. 0. 0. 0. 0. 0. 0.]\n",
            " [0. 0. 0. 0. 0. 0. 0. 0. 0. 0.]\n",
            " [0. 0. 0. 0. 0. 0. 0. 0. 0. 0.]\n",
            " [0. 0. 0. 3. 0. 0. 0. 0. 0. 0.]\n",
            " [0. 0. 0. 0. 0. 3. 0. 0. 0. 0.]]\n"
          ]
        }
      ],
      "source": [
        "n = 10\n",
        "p = 3\n",
        "Z = np.zeros((n,n))\n",
        "np.put(Z, np.random.choice(range(n*n), p, replace=False),p)\n",
        "print(Z)"
      ]
    },
    {
      "cell_type": "markdown",
      "metadata": {
        "id": "B3FUJsns3XZa"
      },
      "source": [
        "#### 58. Subtract the mean of each row of a matrix (★★☆) \n",
        "(**hint**: mean(axis=,keepdims=))"
      ]
    },
    {
      "cell_type": "code",
      "execution_count": 22,
      "metadata": {
        "id": "tqcfA0sy3XZa",
        "colab": {
          "base_uri": "https://localhost:8080/"
        },
        "outputId": "c0d22e1a-ff89-4f54-cba6-e81a53bb6301"
      },
      "outputs": [
        {
          "output_type": "execute_result",
          "data": {
            "text/plain": [
              "array([[ True],\n",
              "       [ True],\n",
              "       [ True],\n",
              "       [ True],\n",
              "       [ True]])"
            ]
          },
          "metadata": {},
          "execution_count": 22
        }
      ],
      "source": [
        "X = np.random.rand(5, 10)\n",
        "Y = X - X.mean(axis = 1,keepdims = True)\n",
        "X.mean(axis = 1).reshape(-1,1) == X.mean(axis = 1,keepdims =True)"
      ]
    },
    {
      "cell_type": "markdown",
      "metadata": {
        "id": "aRx1tXVQ3XZa"
      },
      "source": [
        "#### 59. How to sort an array by the nth column? (★★☆) \n",
        "(**hint**: argsort)"
      ]
    },
    {
      "cell_type": "code",
      "execution_count": 23,
      "metadata": {
        "id": "SdKo6UBD3XZa",
        "colab": {
          "base_uri": "https://localhost:8080/"
        },
        "outputId": "089d8358-5242-4565-dfd5-ea7ef0813b01"
      },
      "outputs": [
        {
          "output_type": "stream",
          "name": "stdout",
          "text": [
            "[[4 5 0]\n",
            " [6 0 6]\n",
            " [1 6 6]]\n",
            "[[6 0 6]\n",
            " [4 5 0]\n",
            " [1 6 6]]\n"
          ]
        }
      ],
      "source": [
        "Z = np.random.randint(0,10,(3,3))\n",
        "print(Z)\n",
        "print(Z[Z[:,1].argsort()])"
      ]
    },
    {
      "cell_type": "markdown",
      "metadata": {
        "id": "X1ss7g5o3XZa"
      },
      "source": [
        "#### 60. How to tell if a given 2D array has null columns? (★★☆) \n",
        "(**hint**: any, ~)"
      ]
    },
    {
      "cell_type": "code",
      "execution_count": 24,
      "metadata": {
        "id": "3D1j_WBk3XZa",
        "colab": {
          "base_uri": "https://localhost:8080/"
        },
        "outputId": "602bc653-3128-4969-ae7e-b6b4cc360dfe"
      },
      "outputs": [
        {
          "output_type": "stream",
          "name": "stdout",
          "text": [
            "False\n"
          ]
        }
      ],
      "source": [
        "Z = np.random.randint(0,3,(3,10))\n",
        "print((~Z.any(axis=0)).any())"
      ]
    },
    {
      "cell_type": "markdown",
      "metadata": {
        "id": "FQN7VaHS3XZa"
      },
      "source": [
        "#### 61. Find the nearest value from a given value in an array (★★☆) \n",
        "(**hint**: np.abs, argmin, flat)"
      ]
    },
    {
      "cell_type": "code",
      "execution_count": 25,
      "metadata": {
        "id": "QF1wDsWX3XZb",
        "colab": {
          "base_uri": "https://localhost:8080/"
        },
        "outputId": "9d41ad2b-bba3-4c80-dafc-0040daa922a2"
      },
      "outputs": [
        {
          "output_type": "stream",
          "name": "stdout",
          "text": [
            "0.4502902761176808\n"
          ]
        }
      ],
      "source": [
        "Z = np.random.uniform(0,1,10)\n",
        "z = 0.5\n",
        "m = Z.flat[np.abs(Z - z).argmin()]\n",
        "print(m)"
      ]
    },
    {
      "cell_type": "markdown",
      "metadata": {
        "id": "Ho2AkDZ43XZb"
      },
      "source": [
        "#### 62. Considering two arrays with shape (1,3) and (3,1), how to compute their sum using an iterator? (★★☆) \n",
        "(**hint**: np.nditer)"
      ]
    },
    {
      "cell_type": "code",
      "execution_count": 26,
      "metadata": {
        "id": "SvaKPjtz3XZb",
        "colab": {
          "base_uri": "https://localhost:8080/"
        },
        "outputId": "2c0cea87-82fb-4cac-e0bd-56023f838cca"
      },
      "outputs": [
        {
          "output_type": "stream",
          "name": "stdout",
          "text": [
            "[[0 1 2]\n",
            " [1 2 3]\n",
            " [2 3 4]]\n"
          ]
        }
      ],
      "source": [
        "A = np.arange(3).reshape(3,1)\n",
        "B = np.arange(3).reshape(1,3)\n",
        "it = np.nditer([A,B,None])\n",
        "for x,y,z in it: z[...] = x + y\n",
        "print(it.operands[2])"
      ]
    },
    {
      "cell_type": "markdown",
      "metadata": {
        "id": "yfTUA9q53XZb"
      },
      "source": [
        "#### 63. Create an array class that has a name attribute (★★☆) \n",
        "(**hint**: class method)"
      ]
    },
    {
      "cell_type": "code",
      "execution_count": 27,
      "metadata": {
        "id": "NEPPEPPJ3XZb",
        "colab": {
          "base_uri": "https://localhost:8080/"
        },
        "outputId": "4775038e-dfe8-420f-86fb-a01f35c6e2dc"
      },
      "outputs": [
        {
          "output_type": "stream",
          "name": "stdout",
          "text": [
            "range_10\n"
          ]
        }
      ],
      "source": [
        "class NamedArray(np.ndarray):\n",
        "    def __new__(cls, array, name=\"no name\"):\n",
        "        obj = np.asarray(array).view(cls)\n",
        "        obj.name = name\n",
        "        return obj\n",
        "    def __array_finalize__(self, obj):\n",
        "        if obj is None: return\n",
        "        self.info = getattr(obj, 'name', \"no name\")\n",
        "\n",
        "Z = NamedArray(np.arange(10), \"range_10\")\n",
        "print (Z.name)"
      ]
    },
    {
      "cell_type": "markdown",
      "metadata": {
        "id": "dCsYOOxZ3XZb"
      },
      "source": [
        "#### 64. Consider a given vector, how to add 1 to each element indexed by a second vector (be careful with repeated indices)? (★★★) \n",
        "(**hint**: np.bincount | np.add.at)"
      ]
    },
    {
      "cell_type": "code",
      "execution_count": 28,
      "metadata": {
        "id": "v6ShJEgZ3XZb",
        "colab": {
          "base_uri": "https://localhost:8080/"
        },
        "outputId": "a9b29f20-3b42-48b6-f6ea-78207d8a1a3d"
      },
      "outputs": [
        {
          "output_type": "stream",
          "name": "stdout",
          "text": [
            "[1. 5. 2. 3. 6. 3. 1. 3. 3. 3.]\n",
            "[ 1.  9.  3.  5. 11.  5.  1.  5.  5.  5.]\n"
          ]
        }
      ],
      "source": [
        "Z = np.ones(10)\n",
        "I = np.random.randint(0,len(Z),20)\n",
        "Z += np.bincount(I, minlength=len(Z))\n",
        "print(Z)\n",
        "\n",
        "np.add.at(Z, I, 1)\n",
        "print(Z)"
      ]
    },
    {
      "cell_type": "markdown",
      "metadata": {
        "id": "2YgJj1en3XZb"
      },
      "source": [
        "#### 65. How to accumulate elements of a vector (X) to an array (F) based on an index list (I)? (★★★) \n",
        "(**hint**: np.bincount)"
      ]
    },
    {
      "cell_type": "code",
      "execution_count": 29,
      "metadata": {
        "id": "Z6UDacIn3XZc",
        "colab": {
          "base_uri": "https://localhost:8080/"
        },
        "outputId": "f307169b-9ac4-4123-bc7c-8b94aa60df6a"
      },
      "outputs": [
        {
          "output_type": "stream",
          "name": "stdout",
          "text": [
            "[0. 7. 0. 6. 5. 0. 0. 0. 0. 3.]\n"
          ]
        }
      ],
      "source": [
        "X = [1,2,3,4,5,6]\n",
        "I = [1,3,9,3,4,1]\n",
        "F = np.bincount(I,X)\n",
        "print(F)"
      ]
    },
    {
      "cell_type": "markdown",
      "metadata": {
        "id": "dg9v89CS3XZc"
      },
      "source": [
        "#### 66. Considering a (w,h,3) image of (dtype=ubyte), compute the number of unique colors (★★★) \n",
        "(**hint**: np.unique)"
      ]
    },
    {
      "cell_type": "code",
      "execution_count": 30,
      "metadata": {
        "id": "82O51NVX3XZc",
        "colab": {
          "base_uri": "https://localhost:8080/"
        },
        "outputId": "d9b1d7c0-8b54-45ac-8de7-ae84edc376c5"
      },
      "outputs": [
        {
          "output_type": "stream",
          "name": "stdout",
          "text": [
            "64\n"
          ]
        }
      ],
      "source": [
        "w, h = 256, 256\n",
        "I = np.random.randint(0, 4, (h, w, 3)).astype(np.ubyte)\n",
        "colors = np.unique(I.reshape(-1, 3), axis=0)\n",
        "n = len(colors)\n",
        "print(n)\n"
      ]
    },
    {
      "cell_type": "markdown",
      "metadata": {
        "id": "kjpUnT8q3XZc"
      },
      "source": [
        "#### 67. Considering a four dimensions array, how to get sum over the last two axis at once? (★★★) \n",
        "(**hint**: sum(axis=(-2,-1)))"
      ]
    },
    {
      "cell_type": "code",
      "execution_count": 33,
      "metadata": {
        "id": "HQXy01PG3XZc",
        "colab": {
          "base_uri": "https://localhost:8080/"
        },
        "outputId": "a8d9174f-104c-4cf7-8775-e1c9a6ea2737"
      },
      "outputs": [
        {
          "output_type": "stream",
          "name": "stdout",
          "text": [
            "[[53 46 69 58]\n",
            " [54 56 65 50]\n",
            " [33 62 68 61]]\n",
            "[[53 46 69 58]\n",
            " [54 56 65 50]\n",
            " [33 62 68 61]]\n"
          ]
        }
      ],
      "source": [
        "A = np.random.randint(0,10,(3,4,3,4))\n",
        "sum = A.sum(axis=(-2,-1))\n",
        "print(sum)\n",
        "sum = A.reshape(A.shape[:-2] + (-1,)).sum(axis=-1)\n",
        "print(sum)"
      ]
    },
    {
      "cell_type": "markdown",
      "metadata": {
        "id": "-JCxO76g3XZc"
      },
      "source": [
        "#### 68. Considering a one-dimensional vector D, how to compute means of subsets of D using a vector S of same size describing subset  indices? (★★★) \n",
        "(**hint**: np.bincount)"
      ]
    },
    {
      "cell_type": "code",
      "execution_count": 35,
      "metadata": {
        "id": "tIuBwazv3XZc",
        "colab": {
          "base_uri": "https://localhost:8080/"
        },
        "outputId": "918fbc5e-a68c-4923-ec7a-0e5fab8644bf"
      },
      "outputs": [
        {
          "output_type": "stream",
          "name": "stdout",
          "text": [
            "[0.37958402 0.47815923 0.49201316 0.60301081 0.58519525 0.51674753\n",
            " 0.45233772 0.41637628 0.35705962 0.48745958]\n"
          ]
        }
      ],
      "source": [
        "D = np.random.uniform(0,1,100)\n",
        "S = np.random.randint(0,10,100)\n",
        "D_sums = np.bincount(S, weights=D)\n",
        "D_counts = np.bincount(S)\n",
        "D_means = D_sums / D_counts\n",
        "print(D_means)\n"
      ]
    },
    {
      "cell_type": "markdown",
      "metadata": {
        "id": "QeQOVgoh3XZc"
      },
      "source": [
        "#### 69. How to get the diagonal of a dot product? (★★★) \n",
        "(**hint**: np.diag)"
      ]
    },
    {
      "cell_type": "code",
      "execution_count": 36,
      "metadata": {
        "id": "9A5dymHo3XZd",
        "colab": {
          "base_uri": "https://localhost:8080/"
        },
        "outputId": "f6feabdf-d4d8-4421-830b-6b5ab05a199a"
      },
      "outputs": [
        {
          "output_type": "execute_result",
          "data": {
            "text/plain": [
              "array([0.45154073, 0.81158979, 0.93363921, 1.11001941, 0.77258656])"
            ]
          },
          "metadata": {},
          "execution_count": 36
        }
      ],
      "source": [
        "A = np.random.uniform(0,1,(5,5))\n",
        "B = np.random.uniform(0,1,(5,5))\n",
        "\n",
        "np.diag(np.dot(A, B))"
      ]
    },
    {
      "cell_type": "markdown",
      "metadata": {
        "id": "UTQeFyno3XZd"
      },
      "source": [
        "#### 70. Consider the vector \\[1, 2, 3, 4, 5\\], how to build a new vector with 3 consecutive zeros interleaved between each value? (★★★) \n",
        "(**hint**: array\\[::4\\])"
      ]
    },
    {
      "cell_type": "code",
      "execution_count": 38,
      "metadata": {
        "id": "6dgIY9bE3XZd",
        "colab": {
          "base_uri": "https://localhost:8080/"
        },
        "outputId": "4f3e9105-bf01-4638-80b6-762b17f4f4e4"
      },
      "outputs": [
        {
          "output_type": "stream",
          "name": "stdout",
          "text": [
            "[1. 0. 0. 0. 2. 0. 0. 0. 3. 0. 0. 0. 4. 0. 0. 0. 5.]\n"
          ]
        }
      ],
      "source": [
        "Z = np.array([1,2,3,4,5])\n",
        "Z0 = np.zeros(len(Z) + (len(Z)-1)*(3))\n",
        "Z0[::3+1] = Z\n",
        "print(Z0)"
      ]
    },
    {
      "cell_type": "markdown",
      "metadata": {
        "id": "2JYuIKfk3XZd"
      },
      "source": [
        "#### 71. Consider an array of dimension (5,5,3), how to mulitply it by an array with dimensions (5,5)? (★★★) \n",
        "(**hint**: array\\[:, :, None\\])"
      ]
    },
    {
      "cell_type": "code",
      "execution_count": 41,
      "metadata": {
        "collapsed": true,
        "id": "YhjNWKq13XZd",
        "colab": {
          "base_uri": "https://localhost:8080/"
        },
        "outputId": "7a7a51a5-7d56-4e05-e072-9d427f7be069"
      },
      "outputs": [
        {
          "output_type": "stream",
          "name": "stdout",
          "text": [
            "[[[1. 1. 1.]\n",
            "  [1. 1. 1.]\n",
            "  [1. 1. 1.]\n",
            "  [1. 1. 1.]\n",
            "  [1. 1. 1.]]\n",
            "\n",
            " [[1. 1. 1.]\n",
            "  [1. 1. 1.]\n",
            "  [1. 1. 1.]\n",
            "  [1. 1. 1.]\n",
            "  [1. 1. 1.]]\n",
            "\n",
            " [[1. 1. 1.]\n",
            "  [1. 1. 1.]\n",
            "  [1. 1. 1.]\n",
            "  [1. 1. 1.]\n",
            "  [1. 1. 1.]]\n",
            "\n",
            " [[1. 1. 1.]\n",
            "  [1. 1. 1.]\n",
            "  [1. 1. 1.]\n",
            "  [1. 1. 1.]\n",
            "  [1. 1. 1.]]\n",
            "\n",
            " [[1. 1. 1.]\n",
            "  [1. 1. 1.]\n",
            "  [1. 1. 1.]\n",
            "  [1. 1. 1.]\n",
            "  [1. 1. 1.]]]\n"
          ]
        }
      ],
      "source": [
        "A = np.ones((5,5,3))\n",
        "B = np.ones((5,5))\n",
        "print(A * B[:,:,None])"
      ]
    },
    {
      "cell_type": "markdown",
      "metadata": {
        "id": "JXSLsqTX3XZd"
      },
      "source": [
        "#### 72. How to swap two rows of an array? (★★★) \n",
        "(**hint**: array\\[\\[\\]\\] = array\\[\\[\\]\\])"
      ]
    },
    {
      "cell_type": "code",
      "execution_count": 42,
      "metadata": {
        "id": "ShviOQX43XZe",
        "colab": {
          "base_uri": "https://localhost:8080/"
        },
        "outputId": "0b9fd245-beb0-4c36-fd17-5569792b6232"
      },
      "outputs": [
        {
          "output_type": "stream",
          "name": "stdout",
          "text": [
            "[[ 5  6  7  8  9]\n",
            " [ 0  1  2  3  4]\n",
            " [10 11 12 13 14]\n",
            " [15 16 17 18 19]\n",
            " [20 21 22 23 24]]\n"
          ]
        }
      ],
      "source": [
        "A = np.arange(25).reshape(5,5)\n",
        "A[[0,1]] = A[[1,0]]\n",
        "print(A)"
      ]
    },
    {
      "cell_type": "markdown",
      "metadata": {
        "id": "UbiHPiDc3XZe"
      },
      "source": [
        "#### 73. Consider a set of 10 triplets describing 10 triangles (with shared vertices), find the set of unique line segments composing all the  triangles (★★★) \n",
        "(**hint**: repeat, np.roll, np.sort, view, np.unique)"
      ]
    },
    {
      "cell_type": "code",
      "execution_count": 43,
      "metadata": {
        "id": "pszwvo_z3XZe",
        "colab": {
          "base_uri": "https://localhost:8080/"
        },
        "outputId": "57701718-eadc-4c7e-86f4-c69824a56005"
      },
      "outputs": [
        {
          "output_type": "stream",
          "name": "stdout",
          "text": [
            "[( 8, 60) ( 8, 77) (10, 34) (10, 76) (11, 59) (11, 64) (20, 36) (20, 98)\n",
            " (22, 43) (22, 79) (33, 43) (33, 90) (34, 76) (35, 71) (36, 98) (43, 79)\n",
            " (43, 90) (58, 75) (58, 89) (59, 64) (60, 77) (61, 81) (61, 96) (71, 71)\n",
            " (75, 89) (81, 96) (89, 97) (97, 97)]\n"
          ]
        }
      ],
      "source": [
        "faces = np.random.randint(0,100,(10,3))\n",
        "F = np.roll(faces.repeat(2,axis=1),-1,axis=1)\n",
        "F = F.reshape(len(F)*3,2)\n",
        "F = np.sort(F,axis=1)\n",
        "G = F.view( dtype=[('p0',F.dtype),('p1',F.dtype)] )\n",
        "G = np.unique(G)\n",
        "print(G)"
      ]
    },
    {
      "cell_type": "markdown",
      "metadata": {
        "id": "amurwini3XZe"
      },
      "source": [
        "#### 74. Given an array C that is a bincount, how to produce an array A such that np.bincount(A) == C? (★★★) \n",
        "(**hint**: np.repeat)"
      ]
    },
    {
      "cell_type": "code",
      "execution_count": 44,
      "metadata": {
        "id": "vZqwmZ_O3XZe",
        "colab": {
          "base_uri": "https://localhost:8080/"
        },
        "outputId": "acac8fe7-db49-4507-e613-28c135c05d23"
      },
      "outputs": [
        {
          "output_type": "stream",
          "name": "stdout",
          "text": [
            "[1 1 2 3 4 4 6]\n"
          ]
        }
      ],
      "source": [
        "C = np.bincount([1,1,2,3,4,4,6])\n",
        "A = np.repeat(np.arange(len(C)), C)\n",
        "print(A)"
      ]
    },
    {
      "cell_type": "markdown",
      "metadata": {
        "id": "Q5REUYaY3XZe"
      },
      "source": [
        "#### 75. How to compute averages using a sliding window over an array? (★★★) \n",
        "(**hint**: np.cumsum)"
      ]
    },
    {
      "cell_type": "code",
      "execution_count": 45,
      "metadata": {
        "id": "nseSVAqo3XZe",
        "colab": {
          "base_uri": "https://localhost:8080/"
        },
        "outputId": "058c0773-adea-4ae6-f45e-ddae4e5f4aa7"
      },
      "outputs": [
        {
          "output_type": "stream",
          "name": "stdout",
          "text": [
            "[ 1.  2.  3.  4.  5.  6.  7.  8.  9. 10. 11. 12. 13. 14. 15. 16. 17. 18.]\n"
          ]
        }
      ],
      "source": [
        "def moving_average(a, n=3) :\n",
        "    ret = np.cumsum(a, dtype=float)\n",
        "    ret[n:] = ret[n:] - ret[:-n]\n",
        "    return ret[n - 1:] / n\n",
        "Z = np.arange(20)\n",
        "print(moving_average(Z, n=3))"
      ]
    },
    {
      "cell_type": "markdown",
      "metadata": {
        "id": "bEQVH89E3XZe"
      },
      "source": [
        "#### 76. Consider a one-dimensional array Z, build a two-dimensional array whose first row is (Z\\[0\\],Z\\[1\\],Z\\[2\\]) and each subsequent row is  shifted by 1 (last row should be (Z\\[-3\\],Z\\[-2\\],Z\\[-1\\]) (★★★) \n",
        "(**hint**: from numpy.lib import stride_tricks)"
      ]
    },
    {
      "cell_type": "code",
      "execution_count": 46,
      "metadata": {
        "id": "JdsUplEn3XZe",
        "colab": {
          "base_uri": "https://localhost:8080/"
        },
        "outputId": "17058d4c-ee09-4c19-f83a-3b5e5c601c4b"
      },
      "outputs": [
        {
          "output_type": "stream",
          "name": "stdout",
          "text": [
            "[[0 1 2]\n",
            " [1 2 3]\n",
            " [2 3 4]\n",
            " [3 4 5]\n",
            " [4 5 6]\n",
            " [5 6 7]\n",
            " [6 7 8]\n",
            " [7 8 9]]\n"
          ]
        }
      ],
      "source": [
        "from numpy.lib import stride_tricks\n",
        "\n",
        "def rolling(a, window):\n",
        "    shape = (a.size - window + 1, window)\n",
        "    strides = (a.strides[0], a.strides[0])\n",
        "    return stride_tricks.as_strided(a, shape=shape, strides=strides)\n",
        "Z = rolling(np.arange(10), 3)\n",
        "print(Z)"
      ]
    },
    {
      "cell_type": "markdown",
      "metadata": {
        "id": "kawg2TR23XZf"
      },
      "source": [
        "#### 77. How to negate a boolean, or to change the sign of a float inplace? (★★★) \n",
        "(**hint**: np.logical_not, np.negative)"
      ]
    },
    {
      "cell_type": "code",
      "execution_count": 47,
      "metadata": {
        "id": "F3zYMAbh3XZf",
        "colab": {
          "base_uri": "https://localhost:8080/"
        },
        "outputId": "b6f7c991-d691-4565-a5fa-f619bda059ee"
      },
      "outputs": [
        {
          "output_type": "execute_result",
          "data": {
            "text/plain": [
              "array([-0.61891016, -0.32306812,  0.04081954,  0.99368523, -0.82789343,\n",
              "       -0.65383574,  0.61259911,  0.08089622, -0.15188159, -0.69905649,\n",
              "        0.64290941, -0.83829815,  0.27084339, -0.27005126,  0.03752494,\n",
              "       -0.68404198,  0.9833017 , -0.72034264,  0.40804395,  0.46757831,\n",
              "       -0.04443841, -0.09932311, -0.72754079,  0.45716593, -0.4365784 ,\n",
              "        0.20984302,  0.48970543,  0.78703895,  0.38187556, -0.59167736,\n",
              "       -0.06828599,  0.92236559,  0.52515705,  0.27701385,  0.20319014,\n",
              "       -0.7606213 ,  0.95179341, -0.83815933, -0.85241464, -0.42290086,\n",
              "        0.48175641,  0.53071505,  0.81350478,  0.98769257, -0.86151096,\n",
              "       -0.42402218, -0.80544818, -0.35409375,  0.74520087, -0.23577961,\n",
              "       -0.4188359 , -0.89481622, -0.73834364,  0.97037121, -0.01882559,\n",
              "       -0.24254953,  0.39131979, -0.87905365, -0.12716373,  0.11055885,\n",
              "       -0.28197127,  0.43142945, -0.60493226, -0.02050639, -0.91027565,\n",
              "       -0.26386065,  0.12508594, -0.85544669, -0.15185527,  0.25589196,\n",
              "        0.85476702,  0.93578937,  0.02561532,  0.05306446, -0.0907883 ,\n",
              "        0.14626091, -0.76536832, -0.332245  , -0.38373697, -0.28006524,\n",
              "        0.73250683,  0.86854006, -0.1097103 ,  0.51953024,  0.39428903,\n",
              "       -0.08862364, -0.46116257,  0.76385079, -0.11741274,  0.11918274,\n",
              "        0.8133123 ,  0.54484799, -0.84429504, -0.27006736,  0.89651221,\n",
              "        0.55741411,  0.01554348,  0.50884149,  0.12076386,  0.45700574])"
            ]
          },
          "metadata": {},
          "execution_count": 47
        }
      ],
      "source": [
        "Z = np.random.randint(0,2,100)\n",
        "np.logical_not(Z, out=Z)\n",
        "\n",
        "Z = np.random.uniform(-1.0,1.0,100)\n",
        "np.negative(Z, out=Z)"
      ]
    },
    {
      "cell_type": "markdown",
      "metadata": {
        "id": "Qp3ELDg93XZf"
      },
      "source": [
        "#### 78. Consider 2 sets of points P0,P1 describing lines (2d) and a point p, how to compute distance from p to each line i  (P0\\[i\\],P1\\[i\\])? (★★★)"
      ]
    },
    {
      "cell_type": "code",
      "execution_count": 48,
      "metadata": {
        "id": "_Q4EgDxx3XZf",
        "colab": {
          "base_uri": "https://localhost:8080/"
        },
        "outputId": "17e6f357-66e0-42a4-ba31-645ea4216265"
      },
      "outputs": [
        {
          "output_type": "stream",
          "name": "stdout",
          "text": [
            "[ 1.92687871  1.81186984  8.38225454  3.03118488 13.77982299  2.78566067\n",
            " 10.61028615  0.41314209  6.17450278  7.28909507]\n"
          ]
        }
      ],
      "source": [
        "def distance(P0, P1, p):\n",
        "    T = P1 - P0\n",
        "    L = (T**2).sum(axis=1)\n",
        "    U = -((P0[:,0]-p[...,0])*T[:,0] + (P0[:,1]-p[...,1])*T[:,1]) / L\n",
        "    U = U.reshape(len(U),1)\n",
        "    D = P0 + U*T - p\n",
        "    return np.sqrt((D**2).sum(axis=1))\n",
        "\n",
        "P0 = np.random.uniform(-10,10,(10,2))\n",
        "P1 = np.random.uniform(-10,10,(10,2))\n",
        "p  = np.random.uniform(-10,10,( 1,2))\n",
        "print(distance(P0, P1, p))"
      ]
    },
    {
      "cell_type": "markdown",
      "metadata": {
        "id": "Czi9uSWs3XZf"
      },
      "source": [
        "#### 79. Consider 2 sets of points P0,P1 describing lines (2d) and a set of points P, how to compute distance from each point j (P\\[j\\]) to each line i (P0\\[i\\],P1\\[i\\])? (★★★)"
      ]
    },
    {
      "cell_type": "code",
      "execution_count": 49,
      "metadata": {
        "id": "phVZamSf3XZf",
        "colab": {
          "base_uri": "https://localhost:8080/"
        },
        "outputId": "8d86c364-f2ca-43d6-ffce-315f77c7bf4e"
      },
      "outputs": [
        {
          "output_type": "stream",
          "name": "stdout",
          "text": [
            "[[11.05186465  6.58460429  0.64495207 14.42009537  0.92585001 18.62193715\n",
            "   3.11050583  2.26773056  6.56433998  0.15601265]\n",
            " [ 4.24664499  7.56530115 10.40522763  1.09874354  0.39388556  1.92823315\n",
            "  13.75250635 11.43944327  5.308796   15.9761761 ]\n",
            " [ 2.3878268   2.28651072  8.14110472 12.56072638  6.38858131 10.79882108\n",
            "   2.99400655  6.63597141  5.82732034  8.15936755]\n",
            " [ 0.84071218  2.45426255  5.53484832  2.8395904   2.15563838  6.7080391\n",
            "   9.77466785  6.34161745  4.19247091 10.99983201]\n",
            " [12.28063895  8.53693546  3.9373952  10.08193042  4.51476644 18.41112662\n",
            "   1.18715537  4.45402648  1.82238978  0.67091663]\n",
            " [ 2.55216034  2.39375271  8.78659933 14.4223425   8.13671542 11.47120197\n",
            "   1.77129889  6.83361497  7.76472652  7.7379572 ]\n",
            " [ 6.62288248  1.97219077  4.07508549 13.98385897  4.23976041 14.77037242\n",
            "   0.30161443  2.38697014  6.72917389  4.02048979]\n",
            " [ 0.38268962  3.15496242  5.14843635  1.08186182  5.09405994  4.55360483\n",
            "  12.8542554   6.8645703   8.14992801 12.70227719]\n",
            " [ 1.57772183  3.02491192  8.69416995 11.78318314  6.28727384  9.89413984\n",
            "   3.93067688  7.34733355  5.12263048  9.02403343]\n",
            " [ 5.44087036 10.30697859 16.09378991 10.91151186 11.35593841  3.73882937\n",
            "   8.49123586 14.68742353  5.1938858  15.66856375]]\n"
          ]
        }
      ],
      "source": [
        "P0 = np.random.uniform(-10, 10, (10,2))\n",
        "P1 = np.random.uniform(-10,10,(10,2))\n",
        "p = np.random.uniform(-10, 10, (10,2))\n",
        "print(np.array([distance(P0,P1,p_i) for p_i in p]))"
      ]
    },
    {
      "cell_type": "markdown",
      "metadata": {
        "id": "bAj2Wu403XZf"
      },
      "source": [
        "#### 80. Consider an arbitrary array, write a function that extract a subpart with a fixed shape and centered on a given element (pad with a `fill` value when necessary) (★★★) \n",
        "(**hint**: minimum, maximum)"
      ]
    },
    {
      "cell_type": "code",
      "execution_count": 50,
      "metadata": {
        "id": "qASIsIAA3XZf",
        "colab": {
          "base_uri": "https://localhost:8080/"
        },
        "outputId": "6a221162-1cb7-449c-b6e1-eca57840e5cc"
      },
      "outputs": [
        {
          "output_type": "stream",
          "name": "stdout",
          "text": [
            "[[5 3 4 8 2 6 8 7 6 2]\n",
            " [1 6 8 3 8 4 1 2 6 0]\n",
            " [4 2 2 4 8 3 6 3 3 6]\n",
            " [5 1 6 1 2 6 6 9 1 6]\n",
            " [6 5 4 2 4 5 2 7 8 2]\n",
            " [8 5 7 3 3 6 4 3 8 7]\n",
            " [0 8 7 0 7 0 7 8 7 7]\n",
            " [6 3 8 5 8 7 5 2 1 5]\n",
            " [9 0 7 5 8 2 2 7 2 0]\n",
            " [4 2 2 3 8 9 8 1 4 3]]\n",
            "[[0 0 0 0 0]\n",
            " [0 5 3 4 8]\n",
            " [0 1 6 8 3]\n",
            " [0 4 2 2 4]\n",
            " [0 5 1 6 1]]\n"
          ]
        },
        {
          "output_type": "stream",
          "name": "stderr",
          "text": [
            "/usr/local/lib/python3.7/dist-packages/ipykernel_launcher.py:23: FutureWarning: Using a non-tuple sequence for multidimensional indexing is deprecated; use `arr[tuple(seq)]` instead of `arr[seq]`. In the future this will be interpreted as an array index, `arr[np.array(seq)]`, which will result either in an error or a different result.\n"
          ]
        }
      ],
      "source": [
        "Z = np.random.randint(0,10,(10,10))\n",
        "shape = (5,5)\n",
        "fill  = 0\n",
        "position = (1,1)\n",
        "\n",
        "R = np.ones(shape, dtype=Z.dtype)*fill\n",
        "P  = np.array(list(position)).astype(int)\n",
        "Rs = np.array(list(R.shape)).astype(int)\n",
        "Zs = np.array(list(Z.shape)).astype(int)\n",
        "\n",
        "R_start = np.zeros((len(shape),)).astype(int)\n",
        "R_stop  = np.array(list(shape)).astype(int)\n",
        "Z_start = (P-Rs//2)\n",
        "Z_stop  = (P+Rs//2)+Rs%2\n",
        "\n",
        "R_start = (R_start - np.minimum(Z_start,0)).tolist()\n",
        "Z_start = (np.maximum(Z_start,0)).tolist()\n",
        "R_stop = np.maximum(R_start, (R_stop - np.maximum(Z_stop-Zs,0))).tolist()\n",
        "Z_stop = (np.minimum(Z_stop,Zs)).tolist()\n",
        "\n",
        "r = [slice(start,stop) for start,stop in zip(R_start,R_stop)]\n",
        "z = [slice(start,stop) for start,stop in zip(Z_start,Z_stop)]\n",
        "R[r] = Z[z]\n",
        "print(Z)\n",
        "print(R)"
      ]
    },
    {
      "cell_type": "markdown",
      "metadata": {
        "id": "go4EWzAV3XZf"
      },
      "source": [
        "#### 81. Consider an array Z = \\[1,2,3,4,5,6,7,8,9,10,11,12,13,14\\], how to generate an array R = \\[\\[1,2,3,4\\], \\[2,3,4,5\\], \\[3,4,5,6\\], ..., \\[11,12,13,14\\]\\]? (★★★) \n",
        "(**hint**: stride\\_tricks.as\\_strided)"
      ]
    },
    {
      "cell_type": "code",
      "execution_count": 51,
      "metadata": {
        "id": "Y3brCpwH3XZf",
        "colab": {
          "base_uri": "https://localhost:8080/"
        },
        "outputId": "bc38840e-205d-4fe4-9597-47e17d8b7a83"
      },
      "outputs": [
        {
          "output_type": "stream",
          "name": "stdout",
          "text": [
            "[[ 1  2  3  4]\n",
            " [ 2  3  4  5]\n",
            " [ 3  4  5  6]\n",
            " [ 4  5  6  7]\n",
            " [ 5  6  7  8]\n",
            " [ 6  7  8  9]\n",
            " [ 7  8  9 10]\n",
            " [ 8  9 10 11]\n",
            " [ 9 10 11 12]\n",
            " [10 11 12 13]\n",
            " [11 12 13 14]]\n"
          ]
        }
      ],
      "source": [
        "Z = np.arange(1,15,dtype=np.uint32)\n",
        "R = stride_tricks.as_strided(Z,(11,4),(4,4))\n",
        "print(R)"
      ]
    },
    {
      "cell_type": "markdown",
      "metadata": {
        "id": "ndo-JSRt3XZg"
      },
      "source": [
        "#### 82. Compute a matrix rank (★★★) \n",
        "(**hint**: np.linalg.svd) (suggestion: np.linalg.svd)"
      ]
    },
    {
      "cell_type": "code",
      "execution_count": 52,
      "metadata": {
        "id": "DPKeKGFn3XZg",
        "colab": {
          "base_uri": "https://localhost:8080/"
        },
        "outputId": "80943aef-4494-4684-fcd9-b54e30e81a9a"
      },
      "outputs": [
        {
          "output_type": "stream",
          "name": "stdout",
          "text": [
            "10\n"
          ]
        }
      ],
      "source": [
        "Z = np.random.uniform(0,1,(10,10))\n",
        "U, S, V = np.linalg.svd(Z) # Singular Value Decomposition\n",
        "rank = np.sum(S > 1e-10)\n",
        "print(rank)"
      ]
    },
    {
      "cell_type": "markdown",
      "metadata": {
        "id": "LZ8Phb1a3XZg"
      },
      "source": [
        "#### 83. How to find the most frequent value in an array? \n",
        "(**hint**: np.bincount, argmax)"
      ]
    },
    {
      "cell_type": "code",
      "execution_count": 53,
      "metadata": {
        "id": "M6bUFo8G3XZg",
        "colab": {
          "base_uri": "https://localhost:8080/"
        },
        "outputId": "b59afb75-40b9-45ec-b50f-12a9f3a4b323"
      },
      "outputs": [
        {
          "output_type": "stream",
          "name": "stdout",
          "text": [
            "2\n"
          ]
        }
      ],
      "source": [
        "Z = np.random.randint(0,10,50)\n",
        "print(np.bincount(Z).argmax())"
      ]
    },
    {
      "cell_type": "markdown",
      "metadata": {
        "id": "cBICiWms3XZg"
      },
      "source": [
        "#### 84. Extract all the contiguous 3x3 blocks from a random 10x10 matrix (★★★) \n",
        "(**hint**: stride\\_tricks.as\\_strided)"
      ]
    },
    {
      "cell_type": "code",
      "execution_count": 54,
      "metadata": {
        "id": "Rwq0p1WM3XZg",
        "colab": {
          "base_uri": "https://localhost:8080/"
        },
        "outputId": "7d1bc5b7-5be0-4133-8073-ab925fb614d5"
      },
      "outputs": [
        {
          "output_type": "stream",
          "name": "stdout",
          "text": [
            "[[[[1 2 2]\n",
            "   [0 4 2]\n",
            "   [0 4 0]]\n",
            "\n",
            "  [[2 2 1]\n",
            "   [4 2 3]\n",
            "   [4 0 0]]\n",
            "\n",
            "  [[2 1 0]\n",
            "   [2 3 0]\n",
            "   [0 0 4]]\n",
            "\n",
            "  [[1 0 4]\n",
            "   [3 0 4]\n",
            "   [0 4 3]]\n",
            "\n",
            "  [[0 4 1]\n",
            "   [0 4 3]\n",
            "   [4 3 3]]\n",
            "\n",
            "  [[4 1 1]\n",
            "   [4 3 4]\n",
            "   [3 3 3]]\n",
            "\n",
            "  [[1 1 4]\n",
            "   [3 4 1]\n",
            "   [3 3 2]]\n",
            "\n",
            "  [[1 4 1]\n",
            "   [4 1 3]\n",
            "   [3 2 3]]]\n",
            "\n",
            "\n",
            " [[[0 4 2]\n",
            "   [0 4 0]\n",
            "   [0 2 1]]\n",
            "\n",
            "  [[4 2 3]\n",
            "   [4 0 0]\n",
            "   [2 1 1]]\n",
            "\n",
            "  [[2 3 0]\n",
            "   [0 0 4]\n",
            "   [1 1 2]]\n",
            "\n",
            "  [[3 0 4]\n",
            "   [0 4 3]\n",
            "   [1 2 0]]\n",
            "\n",
            "  [[0 4 3]\n",
            "   [4 3 3]\n",
            "   [2 0 4]]\n",
            "\n",
            "  [[4 3 4]\n",
            "   [3 3 3]\n",
            "   [0 4 4]]\n",
            "\n",
            "  [[3 4 1]\n",
            "   [3 3 2]\n",
            "   [4 4 2]]\n",
            "\n",
            "  [[4 1 3]\n",
            "   [3 2 3]\n",
            "   [4 2 3]]]\n",
            "\n",
            "\n",
            " [[[0 4 0]\n",
            "   [0 2 1]\n",
            "   [4 1 0]]\n",
            "\n",
            "  [[4 0 0]\n",
            "   [2 1 1]\n",
            "   [1 0 4]]\n",
            "\n",
            "  [[0 0 4]\n",
            "   [1 1 2]\n",
            "   [0 4 1]]\n",
            "\n",
            "  [[0 4 3]\n",
            "   [1 2 0]\n",
            "   [4 1 2]]\n",
            "\n",
            "  [[4 3 3]\n",
            "   [2 0 4]\n",
            "   [1 2 0]]\n",
            "\n",
            "  [[3 3 3]\n",
            "   [0 4 4]\n",
            "   [2 0 2]]\n",
            "\n",
            "  [[3 3 2]\n",
            "   [4 4 2]\n",
            "   [0 2 1]]\n",
            "\n",
            "  [[3 2 3]\n",
            "   [4 2 3]\n",
            "   [2 1 1]]]\n",
            "\n",
            "\n",
            " [[[0 2 1]\n",
            "   [4 1 0]\n",
            "   [2 3 4]]\n",
            "\n",
            "  [[2 1 1]\n",
            "   [1 0 4]\n",
            "   [3 4 2]]\n",
            "\n",
            "  [[1 1 2]\n",
            "   [0 4 1]\n",
            "   [4 2 4]]\n",
            "\n",
            "  [[1 2 0]\n",
            "   [4 1 2]\n",
            "   [2 4 1]]\n",
            "\n",
            "  [[2 0 4]\n",
            "   [1 2 0]\n",
            "   [4 1 1]]\n",
            "\n",
            "  [[0 4 4]\n",
            "   [2 0 2]\n",
            "   [1 1 3]]\n",
            "\n",
            "  [[4 4 2]\n",
            "   [0 2 1]\n",
            "   [1 3 4]]\n",
            "\n",
            "  [[4 2 3]\n",
            "   [2 1 1]\n",
            "   [3 4 3]]]\n",
            "\n",
            "\n",
            " [[[4 1 0]\n",
            "   [2 3 4]\n",
            "   [3 2 3]]\n",
            "\n",
            "  [[1 0 4]\n",
            "   [3 4 2]\n",
            "   [2 3 4]]\n",
            "\n",
            "  [[0 4 1]\n",
            "   [4 2 4]\n",
            "   [3 4 2]]\n",
            "\n",
            "  [[4 1 2]\n",
            "   [2 4 1]\n",
            "   [4 2 2]]\n",
            "\n",
            "  [[1 2 0]\n",
            "   [4 1 1]\n",
            "   [2 2 0]]\n",
            "\n",
            "  [[2 0 2]\n",
            "   [1 1 3]\n",
            "   [2 0 1]]\n",
            "\n",
            "  [[0 2 1]\n",
            "   [1 3 4]\n",
            "   [0 1 2]]\n",
            "\n",
            "  [[2 1 1]\n",
            "   [3 4 3]\n",
            "   [1 2 3]]]\n",
            "\n",
            "\n",
            " [[[2 3 4]\n",
            "   [3 2 3]\n",
            "   [2 1 2]]\n",
            "\n",
            "  [[3 4 2]\n",
            "   [2 3 4]\n",
            "   [1 2 0]]\n",
            "\n",
            "  [[4 2 4]\n",
            "   [3 4 2]\n",
            "   [2 0 1]]\n",
            "\n",
            "  [[2 4 1]\n",
            "   [4 2 2]\n",
            "   [0 1 2]]\n",
            "\n",
            "  [[4 1 1]\n",
            "   [2 2 0]\n",
            "   [1 2 2]]\n",
            "\n",
            "  [[1 1 3]\n",
            "   [2 0 1]\n",
            "   [2 2 2]]\n",
            "\n",
            "  [[1 3 4]\n",
            "   [0 1 2]\n",
            "   [2 2 1]]\n",
            "\n",
            "  [[3 4 3]\n",
            "   [1 2 3]\n",
            "   [2 1 2]]]\n",
            "\n",
            "\n",
            " [[[3 2 3]\n",
            "   [2 1 2]\n",
            "   [1 2 1]]\n",
            "\n",
            "  [[2 3 4]\n",
            "   [1 2 0]\n",
            "   [2 1 2]]\n",
            "\n",
            "  [[3 4 2]\n",
            "   [2 0 1]\n",
            "   [1 2 0]]\n",
            "\n",
            "  [[4 2 2]\n",
            "   [0 1 2]\n",
            "   [2 0 0]]\n",
            "\n",
            "  [[2 2 0]\n",
            "   [1 2 2]\n",
            "   [0 0 1]]\n",
            "\n",
            "  [[2 0 1]\n",
            "   [2 2 2]\n",
            "   [0 1 2]]\n",
            "\n",
            "  [[0 1 2]\n",
            "   [2 2 1]\n",
            "   [1 2 1]]\n",
            "\n",
            "  [[1 2 3]\n",
            "   [2 1 2]\n",
            "   [2 1 4]]]\n",
            "\n",
            "\n",
            " [[[2 1 2]\n",
            "   [1 2 1]\n",
            "   [0 4 3]]\n",
            "\n",
            "  [[1 2 0]\n",
            "   [2 1 2]\n",
            "   [4 3 3]]\n",
            "\n",
            "  [[2 0 1]\n",
            "   [1 2 0]\n",
            "   [3 3 1]]\n",
            "\n",
            "  [[0 1 2]\n",
            "   [2 0 0]\n",
            "   [3 1 3]]\n",
            "\n",
            "  [[1 2 2]\n",
            "   [0 0 1]\n",
            "   [1 3 4]]\n",
            "\n",
            "  [[2 2 2]\n",
            "   [0 1 2]\n",
            "   [3 4 1]]\n",
            "\n",
            "  [[2 2 1]\n",
            "   [1 2 1]\n",
            "   [4 1 0]]\n",
            "\n",
            "  [[2 1 2]\n",
            "   [2 1 4]\n",
            "   [1 0 4]]]]\n"
          ]
        }
      ],
      "source": [
        "Z = np.random.randint(0,5,(10,10))\n",
        "n = 3\n",
        "i = 1 + (Z.shape[0]-3)\n",
        "j = 1 + (Z.shape[1]-3)\n",
        "C = stride_tricks.as_strided(Z, shape=(i, j, n, n), strides=Z.strides + Z.strides)\n",
        "print(C)"
      ]
    },
    {
      "cell_type": "markdown",
      "metadata": {
        "id": "KCc3vpEn3XZg"
      },
      "source": [
        "#### 85. Create a 2D array subclass such that Z\\[i,j\\] == Z\\[j,i\\] (★★★) \n",
        "(**hint**: class method)"
      ]
    },
    {
      "cell_type": "code",
      "execution_count": 55,
      "metadata": {
        "id": "lus2e-Kn3XZg",
        "colab": {
          "base_uri": "https://localhost:8080/"
        },
        "outputId": "78f4fcf2-50e9-499a-ff9c-fdcef496d00c"
      },
      "outputs": [
        {
          "output_type": "stream",
          "name": "stdout",
          "text": [
            "[[ 8  3  8  9  5]\n",
            " [ 3  6 13  9 15]\n",
            " [ 8 13  6 42  5]\n",
            " [ 9  9 42  1 13]\n",
            " [ 5 15  5 13  8]]\n"
          ]
        }
      ],
      "source": [
        "class Symetric(np.ndarray):\n",
        "    def __setitem__(self, index, value):\n",
        "        i,j = index\n",
        "        super(Symetric, self).__setitem__((i,j), value)\n",
        "        super(Symetric, self).__setitem__((j,i), value)\n",
        "\n",
        "def symetric(Z):\n",
        "    return np.asarray(Z + Z.T - np.diag(Z.diagonal())).view(Symetric)\n",
        "\n",
        "S = symetric(np.random.randint(0,10,(5,5)))\n",
        "S[2,3] = 42\n",
        "print(S)"
      ]
    },
    {
      "cell_type": "markdown",
      "metadata": {
        "id": "EJHfBnxr3XZk"
      },
      "source": [
        "#### 86. Consider a set of p matrices wich shape (n,n) and a set of p vectors with shape (n,1). How to compute the sum of of the p matrix products at once? (result has shape (n,1)) (★★★) \n",
        "(**hint**: np.tensordot)"
      ]
    },
    {
      "cell_type": "code",
      "execution_count": 56,
      "metadata": {
        "id": "V6W4Jz2s3XZk",
        "colab": {
          "base_uri": "https://localhost:8080/"
        },
        "outputId": "2e1694c7-6ea5-46cc-8c2b-3ebbb8442f43"
      },
      "outputs": [
        {
          "output_type": "stream",
          "name": "stdout",
          "text": [
            "[[200.]\n",
            " [200.]\n",
            " [200.]\n",
            " [200.]\n",
            " [200.]\n",
            " [200.]\n",
            " [200.]\n",
            " [200.]\n",
            " [200.]\n",
            " [200.]\n",
            " [200.]\n",
            " [200.]\n",
            " [200.]\n",
            " [200.]\n",
            " [200.]\n",
            " [200.]\n",
            " [200.]\n",
            " [200.]\n",
            " [200.]\n",
            " [200.]]\n"
          ]
        }
      ],
      "source": [
        "p, n = 10, 20\n",
        "M = np.ones((p,n,n))\n",
        "V = np.ones((p,n,1))\n",
        "S = np.tensordot(M, V, axes=[[0, 2], [0, 1]])\n",
        "print(S)"
      ]
    },
    {
      "cell_type": "markdown",
      "metadata": {
        "id": "Uwxg9ZfW3XZk"
      },
      "source": [
        "#### 87. Consider a 16x16 array, how to get the block-sum (block size is 4x4)? (★★★) \n",
        "(**hint**: np.add.reduceat)"
      ]
    },
    {
      "cell_type": "code",
      "execution_count": 57,
      "metadata": {
        "id": "vGCy2cOC3XZl",
        "colab": {
          "base_uri": "https://localhost:8080/"
        },
        "outputId": "4d2208f3-312e-49f7-a4b2-a212d142fbd9"
      },
      "outputs": [
        {
          "output_type": "stream",
          "name": "stdout",
          "text": [
            "[[16. 16. 16. 16.]\n",
            " [16. 16. 16. 16.]\n",
            " [16. 16. 16. 16.]\n",
            " [16. 16. 16. 16.]]\n"
          ]
        }
      ],
      "source": [
        "Z = np.ones((16,16))\n",
        "k = 4\n",
        "S = np.add.reduceat(np.add.reduceat(Z, np.arange(0, Z.shape[0], k), axis=0),\n",
        "                                       np.arange(0, Z.shape[1], k), axis=1)\n",
        "print(S)"
      ]
    },
    {
      "cell_type": "markdown",
      "metadata": {
        "id": "C9p1bRIq3XZl"
      },
      "source": [
        "#### 88. How to implement the Game of Life using numpy arrays? (★★★)"
      ]
    },
    {
      "cell_type": "code",
      "execution_count": 58,
      "metadata": {
        "id": "8QWf7rjM3XZl",
        "colab": {
          "base_uri": "https://localhost:8080/"
        },
        "outputId": "31e68a3d-cb67-4d21-fe16-6465a0780561"
      },
      "outputs": [
        {
          "output_type": "stream",
          "name": "stdout",
          "text": [
            "[[0 0 0 ... 0 0 0]\n",
            " [0 0 0 ... 0 0 0]\n",
            " [0 0 0 ... 0 0 0]\n",
            " ...\n",
            " [0 1 1 ... 0 0 0]\n",
            " [0 0 0 ... 0 0 0]\n",
            " [0 0 0 ... 0 0 0]]\n"
          ]
        }
      ],
      "source": [
        "def iterate(Z):\n",
        "    # Count neighbours\n",
        "    N = (Z[0:-2,0:-2] + Z[0:-2,1:-1] + Z[0:-2,2:] +\n",
        "         Z[1:-1,0:-2]                + Z[1:-1,2:] +\n",
        "         Z[2:  ,0:-2] + Z[2:  ,1:-1] + Z[2:  ,2:])\n",
        "\n",
        "    # Apply rules\n",
        "    birth = (N==3) & (Z[1:-1,1:-1]==0)\n",
        "    survive = ((N==2) | (N==3)) & (Z[1:-1,1:-1]==1)\n",
        "    Z[...] = 0\n",
        "    Z[1:-1,1:-1][birth | survive] = 1\n",
        "    return Z\n",
        "\n",
        "Z = np.random.randint(0,2,(50,50))\n",
        "for i in range(100): Z = iterate(Z)\n",
        "print(Z)"
      ]
    },
    {
      "cell_type": "markdown",
      "metadata": {
        "id": "Wi3sDSto3XZl"
      },
      "source": [
        "#### 89. How to get the n largest values of an array (★★★) \n",
        "(**hint**: np.argsort | np.argpartition)"
      ]
    },
    {
      "cell_type": "code",
      "execution_count": 59,
      "metadata": {
        "id": "MvUC6Ktx3XZl",
        "colab": {
          "base_uri": "https://localhost:8080/"
        },
        "outputId": "cde05e9e-fefb-4af5-87c7-38ce31005799"
      },
      "outputs": [
        {
          "output_type": "stream",
          "name": "stdout",
          "text": [
            "[9995 9996 9997 9998 9999]\n"
          ]
        }
      ],
      "source": [
        "Z = np.arange(10000)\n",
        "np.random.shuffle(Z)\n",
        "n = 5\n",
        "\n",
        "print (Z[np.argsort(Z)[-n:]])"
      ]
    },
    {
      "cell_type": "markdown",
      "metadata": {
        "id": "Ae2BHdsA3XZl"
      },
      "source": [
        "#### 90. Given an arbitrary number of vectors, build the cartesian product (every combinations of every item) (★★★) \n",
        "(**hint**: np.indices)"
      ]
    },
    {
      "cell_type": "code",
      "execution_count": 60,
      "metadata": {
        "scrolled": true,
        "id": "9NpFzMkF3XZl",
        "colab": {
          "base_uri": "https://localhost:8080/"
        },
        "outputId": "4479b4d9-52ea-4234-ce0b-759677cb9f4b"
      },
      "outputs": [
        {
          "output_type": "stream",
          "name": "stdout",
          "text": [
            "[[1 4 6]\n",
            " [1 4 7]\n",
            " [1 5 6]\n",
            " [1 5 7]\n",
            " [2 4 6]\n",
            " [2 4 7]\n",
            " [2 5 6]\n",
            " [2 5 7]\n",
            " [3 4 6]\n",
            " [3 4 7]\n",
            " [3 5 6]\n",
            " [3 5 7]]\n"
          ]
        }
      ],
      "source": [
        "def cartesian(arrays):\n",
        "    arrays = [np.asarray(a) for a in arrays]\n",
        "    shape = (len(x) for x in arrays)\n",
        "\n",
        "    ix = np.indices(shape, dtype=int)\n",
        "    ix = ix.reshape(len(arrays), -1).T\n",
        "\n",
        "    for n, arr in enumerate(arrays):\n",
        "        ix[:, n] = arrays[n][ix[:, n]]\n",
        "\n",
        "    return ix\n",
        "\n",
        "print (cartesian(([1, 2, 3], [4, 5], [6, 7])))"
      ]
    },
    {
      "cell_type": "markdown",
      "metadata": {
        "id": "7UYt9MoI3XZl"
      },
      "source": [
        "#### 91. How to create a record array from a regular array? (★★★) \n",
        "(**hint**: np.core.records.fromarrays)"
      ]
    },
    {
      "cell_type": "code",
      "execution_count": 61,
      "metadata": {
        "id": "7SRlnmDY3XZl",
        "colab": {
          "base_uri": "https://localhost:8080/"
        },
        "outputId": "6b35e07e-899d-4264-9193-f318b463cfbd"
      },
      "outputs": [
        {
          "output_type": "stream",
          "name": "stdout",
          "text": [
            "[(b'Hello', 2.5, 3) (b'World', 3.6, 2)]\n"
          ]
        }
      ],
      "source": [
        "Z = np.array([(\"Hello\", 2.5, 3),\n",
        "              (\"World\", 3.6, 2)])\n",
        "R = np.core.records.fromarrays(Z.T,\n",
        "                               names='col1, col2, col3',\n",
        "                               formats = 'S8, f8, i8')\n",
        "print(R)"
      ]
    },
    {
      "cell_type": "markdown",
      "metadata": {
        "id": "BP6xjCGw3XZl"
      },
      "source": [
        "#### 92. Consider a large vector Z, compute Z to the power of 3 using 3 different methods (★★★) \n",
        "(**hint**: np.power, \\*, np.einsum)"
      ]
    },
    {
      "cell_type": "code",
      "execution_count": 62,
      "metadata": {
        "id": "0SXOmbOy3XZl",
        "colab": {
          "base_uri": "https://localhost:8080/"
        },
        "outputId": "c6e9634c-607d-4c3a-fb06-f9afc0180b74"
      },
      "outputs": [
        {
          "output_type": "stream",
          "name": "stdout",
          "text": [
            "3.73 s ± 7.63 ms per loop (mean ± std. dev. of 7 runs, 1 loop each)\n",
            "134 ms ± 1.53 ms per loop (mean ± std. dev. of 7 runs, 10 loops each)\n",
            "112 ms ± 617 µs per loop (mean ± std. dev. of 7 runs, 10 loops each)\n"
          ]
        }
      ],
      "source": [
        "x = np.random.rand(int(5e7))\n",
        "\n",
        "%timeit np.power(x,3)\n",
        "%timeit x*x*x\n",
        "%timeit np.einsum('i,i,i->i',x,x,x)"
      ]
    },
    {
      "cell_type": "markdown",
      "metadata": {
        "id": "hx4v9AlX3XZl"
      },
      "source": [
        "#### 93. Consider two arrays A and B of shape (8,3) and (2,2). How to find rows of A that contain elements of each row of B regardless of the order of the elements in B? (★★★) \n",
        "(**hint**: np.where)"
      ]
    },
    {
      "cell_type": "code",
      "execution_count": 63,
      "metadata": {
        "id": "Nxiutlbf3XZm",
        "colab": {
          "base_uri": "https://localhost:8080/"
        },
        "outputId": "835ce4d3-01de-4361-d9d0-f0b478635630"
      },
      "outputs": [
        {
          "output_type": "stream",
          "name": "stdout",
          "text": [
            "[0 3 5 6]\n"
          ]
        }
      ],
      "source": [
        "A = np.random.randint(0,5,(8,3))\n",
        "B = np.random.randint(0,5,(2,2))\n",
        "\n",
        "C = (A[..., np.newaxis, np.newaxis] == B)\n",
        "rows = np.where(C.any((3,1)).all(1))[0]\n",
        "print(rows)"
      ]
    },
    {
      "cell_type": "markdown",
      "metadata": {
        "id": "oG6lKPEh3XZm"
      },
      "source": [
        "#### 94. Considering a 10x3 matrix, extract rows with unequal values (e.g. \\[2,2,3\\]) (★★★)"
      ]
    },
    {
      "cell_type": "code",
      "execution_count": 64,
      "metadata": {
        "id": "VQDAiFmn3XZm",
        "colab": {
          "base_uri": "https://localhost:8080/"
        },
        "outputId": "1ff59fdc-6cb1-4008-b759-8390cbe96f47"
      },
      "outputs": [
        {
          "output_type": "stream",
          "name": "stdout",
          "text": [
            "[[0 2 3]\n",
            " [2 2 1]\n",
            " [4 3 3]\n",
            " [2 3 1]\n",
            " [2 2 3]\n",
            " [4 0 1]\n",
            " [4 3 1]\n",
            " [1 3 1]\n",
            " [3 1 3]\n",
            " [4 2 2]]\n",
            "[[0 2 3]\n",
            " [2 2 1]\n",
            " [4 3 3]\n",
            " [2 3 1]\n",
            " [2 2 3]\n",
            " [4 0 1]\n",
            " [4 3 1]\n",
            " [1 3 1]\n",
            " [3 1 3]\n",
            " [4 2 2]]\n"
          ]
        }
      ],
      "source": [
        "Z = np.random.randint(0,5,(10,3))\n",
        "print(Z)\n",
        "U = Z[Z.max(axis=1) != Z.min(axis=1),:]\n",
        "print(U)"
      ]
    },
    {
      "cell_type": "markdown",
      "metadata": {
        "id": "dwiEnbi23XZm"
      },
      "source": [
        "#### 95. Convert a vector of ints into a matrix binary representation (★★★) \n",
        "(**hint**: np.unpackbits)"
      ]
    },
    {
      "cell_type": "code",
      "execution_count": 65,
      "metadata": {
        "id": "afBt756p3XZm",
        "colab": {
          "base_uri": "https://localhost:8080/"
        },
        "outputId": "a30bf04c-2b3c-4801-bda7-f827bc7d45c7"
      },
      "outputs": [
        {
          "output_type": "stream",
          "name": "stdout",
          "text": [
            "[[0 0 0 0 0 0 0 0]\n",
            " [0 0 0 0 0 0 0 1]\n",
            " [0 0 0 0 0 0 1 0]\n",
            " [0 0 0 0 0 0 1 1]\n",
            " [0 0 0 0 1 1 1 1]\n",
            " [0 0 0 1 0 0 0 0]\n",
            " [0 0 1 0 0 0 0 0]\n",
            " [0 1 0 0 0 0 0 0]\n",
            " [1 0 0 0 0 0 0 0]]\n"
          ]
        }
      ],
      "source": [
        "\n",
        "I = np.array([0, 1, 2, 3, 15, 16, 32, 64, 128], dtype=np.uint8)\n",
        "print(np.unpackbits(I[:, np.newaxis], axis=1))"
      ]
    },
    {
      "cell_type": "markdown",
      "metadata": {
        "id": "Xm9HhMTP3XZm"
      },
      "source": [
        "#### 96. Given a two dimensional array, how to extract unique rows? (★★★) \n",
        "(**hint**: np.ascontiguousarray)"
      ]
    },
    {
      "cell_type": "code",
      "execution_count": 66,
      "metadata": {
        "id": "2snaa6hE3XZm",
        "colab": {
          "base_uri": "https://localhost:8080/"
        },
        "outputId": "8d693f67-5bac-492f-c853-dd5cdc0de2ee"
      },
      "outputs": [
        {
          "output_type": "stream",
          "name": "stdout",
          "text": [
            "[[0 0 0]\n",
            " [0 0 1]\n",
            " [0 1 0]\n",
            " [1 0 1]]\n"
          ]
        }
      ],
      "source": [
        "Z = np.random.randint(0,2,(6,3))\n",
        "T = np.ascontiguousarray(Z).view(np.dtype((np.void, Z.dtype.itemsize * Z.shape[1])))\n",
        "_, idx = np.unique(T, return_index=True)\n",
        "uZ = Z[idx]\n",
        "print(uZ)"
      ]
    },
    {
      "cell_type": "markdown",
      "metadata": {
        "id": "-9ndeMo33XZm"
      },
      "source": [
        "#### 97. Considering 2 vectors A & B, write the einsum equivalent of inner, outer, sum, and mul function (★★★) \n",
        "(**hint**: np.einsum)"
      ]
    },
    {
      "cell_type": "code",
      "execution_count": 67,
      "metadata": {
        "id": "oaZBoUk23XZm",
        "colab": {
          "base_uri": "https://localhost:8080/"
        },
        "outputId": "b1c4fae3-9ca8-4f5f-8026-63810e1b8a91"
      },
      "outputs": [
        {
          "output_type": "execute_result",
          "data": {
            "text/plain": [
              "array([[1.24969864e-01, 3.51488325e-01, 4.56762532e-01, 5.47097876e-02,\n",
              "        3.09194707e-01, 3.17988323e-01, 1.37954518e-01, 1.68279579e-03,\n",
              "        4.55872117e-01, 6.37101597e-02],\n",
              "       [8.21351200e-03, 2.31011980e-02, 3.00202338e-02, 3.59574287e-03,\n",
              "        2.03214947e-02, 2.08994459e-02, 9.06691465e-03, 1.10599971e-04,\n",
              "        2.99617122e-02, 4.18728279e-03],\n",
              "       [1.40050472e-01, 3.93903812e-01, 5.11881875e-01, 6.13118342e-02,\n",
              "        3.46506455e-01, 3.56361233e-01, 1.54602036e-01, 1.88586541e-03,\n",
              "        5.10884009e-01, 7.13983168e-02],\n",
              "       [3.42778542e-02, 9.64093677e-02, 1.25284921e-01, 1.50062908e-02,\n",
              "        8.48086950e-02, 8.72206870e-02, 3.78394015e-02, 4.61572309e-04,\n",
              "        1.25040690e-01, 1.74749935e-02],\n",
              "       [7.71299930e-03, 2.16934637e-02, 2.81908692e-02, 3.37662649e-03,\n",
              "        1.90831492e-02, 1.96258813e-02, 8.51439754e-03, 1.03860261e-04,\n",
              "        2.81359138e-02, 3.93211933e-03],\n",
              "       [4.74748873e-02, 1.33527141e-01, 1.73519832e-01, 2.07837387e-02,\n",
              "        1.17460189e-01, 1.20800802e-01, 5.24076366e-02, 6.39278446e-04,\n",
              "        1.73181571e-01, 2.42028963e-02],\n",
              "       [3.14649820e-02, 8.84979265e-02, 1.15003925e-01, 1.37748608e-02,\n",
              "        7.78492157e-02, 8.00632774e-02, 3.47342655e-02, 4.23695262e-04,\n",
              "        1.14779736e-01, 1.60409795e-02],\n",
              "       [1.17421710e-01, 3.30258502e-01, 4.29174169e-01, 5.14053277e-02,\n",
              "        2.90519410e-01, 2.98781894e-01, 1.29622094e-01, 1.58115527e-03,\n",
              "        4.28337535e-01, 5.98620791e-02],\n",
              "       [6.68791895e-02, 1.88103384e-01, 2.44442196e-01, 2.92786287e-02,\n",
              "        1.65469424e-01, 1.70175438e-01, 7.38280900e-02, 9.00569263e-04,\n",
              "        2.43965679e-01, 3.40952907e-02],\n",
              "       [1.80931667e-01, 5.08885634e-01, 6.61301882e-01, 7.92089608e-02,\n",
              "        4.47652833e-01, 4.60384252e-01, 1.99730880e-01, 2.43635575e-03,\n",
              "        6.60012737e-01, 9.22397209e-02]])"
            ]
          },
          "metadata": {},
          "execution_count": 67
        }
      ],
      "source": [
        "A = np.random.uniform(0,1,10)\n",
        "B = np.random.uniform(0,1,10)\n",
        "\n",
        "np.einsum('i->', A)      \n",
        "np.einsum('i,i->i', A, B) \n",
        "np.einsum('i,i', A, B)    \n",
        "np.einsum('i,j->ij', A, B) "
      ]
    },
    {
      "cell_type": "markdown",
      "metadata": {
        "id": "qxkFsP6Z3XZm"
      },
      "source": [
        "#### 98. Considering a path described by two vectors (X,Y), how to sample it using equidistant samples (★★★)? \n",
        "(**hint**: np.cumsum, np.interp)"
      ]
    },
    {
      "cell_type": "code",
      "execution_count": 68,
      "metadata": {
        "collapsed": true,
        "id": "8u9rdA-k3XZn"
      },
      "outputs": [],
      "source": [
        "phi = np.arange(0, 10*np.pi, 0.1)\n",
        "a = 1\n",
        "x = a*phi*np.cos(phi)\n",
        "y = a*phi*np.sin(phi)\n",
        "\n",
        "dr = (np.diff(x)**2 + np.diff(y)**2)**.5 \n",
        "r = np.zeros_like(x)\n",
        "r[1:] = np.cumsum(dr)                \n",
        "r_int = np.linspace(0, r.max(), 200) \n",
        "x_int = np.interp(r_int, r, x)       \n",
        "y_int = np.interp(r_int, r, y)"
      ]
    },
    {
      "cell_type": "markdown",
      "metadata": {
        "id": "CyhGQ--h3XZn"
      },
      "source": [
        "#### 99. Given an integer n and a 2D array X, select from X the rows which can be interpreted as draws from a multinomial distribution with n degrees, i.e., the rows which only contain integers and which sum to n. (★★★) \n",
        "(**hint**: np.logical\\_and.reduce, np.mod)"
      ]
    },
    {
      "cell_type": "code",
      "execution_count": 69,
      "metadata": {
        "id": "T2Ii-HEL3XZn",
        "colab": {
          "base_uri": "https://localhost:8080/"
        },
        "outputId": "f2e764df-382b-4dbc-d947-ccec1b29de38"
      },
      "outputs": [
        {
          "output_type": "stream",
          "name": "stdout",
          "text": [
            "[[2. 0. 1. 1.]]\n"
          ]
        }
      ],
      "source": [
        "X = np.asarray([[1.0, 0.0, 3.0, 8.0],\n",
        "                [2.0, 0.0, 1.0, 1.0],\n",
        "                [1.5, 2.5, 1.0, 0.0]])\n",
        "n = 4\n",
        "M = np.logical_and.reduce(np.mod(X, 1) == 0, axis=-1)\n",
        "M &= (X.sum(axis=-1) == n)\n",
        "print(X[M])"
      ]
    },
    {
      "cell_type": "markdown",
      "metadata": {
        "id": "MeOCk8x23XZn"
      },
      "source": [
        "#### 100. Compute bootstrapped 95% confidence intervals for the mean of a 1D array X (i.e., resample the elements of an array with replacement N times, compute the mean of each sample, and then compute percentiles over the means). (★★★) \n",
        "(**hint**: np.percentile)"
      ]
    },
    {
      "cell_type": "code",
      "execution_count": 71,
      "metadata": {
        "id": "5U1hOlED3XZn",
        "colab": {
          "base_uri": "https://localhost:8080/"
        },
        "outputId": "4d8dd4c9-52b4-4bcc-b59b-c413e5b6bcc3"
      },
      "outputs": [
        {
          "output_type": "stream",
          "name": "stdout",
          "text": [
            "[-0.2693467   0.12180472]\n"
          ]
        }
      ],
      "source": [
        "X = np.random.randn(100) \n",
        "N = 1000 \n",
        "idx = np.random.randint(0, X.size, (N, X.size))\n",
        "means = X[idx].mean(axis=1)\n",
        "confint = np.percentile(means, [2.5, 97.5])\n",
        "print(confint)"
      ]
    }
  ],
  "metadata": {
    "kernelspec": {
      "display_name": "Python 3",
      "language": "python",
      "name": "python3"
    },
    "language_info": {
      "codemirror_mode": {
        "name": "ipython",
        "version": 3
      },
      "file_extension": ".py",
      "mimetype": "text/x-python",
      "name": "python",
      "nbconvert_exporter": "python",
      "pygments_lexer": "ipython3",
      "version": "3.8.3"
    },
    "colab": {
      "name": "Copy of Numpy_tasks.ipynb",
      "provenance": [],
      "collapsed_sections": [
        "Z-47WtiS3XZO",
        "NvtvmWYr3XZO",
        "wQ1dr1iB3XZO",
        "qK_v408P3XZP",
        "gAkUEcfG3XZP",
        "bKu9gQ-u3XZP",
        "2hLoeBqK3XZQ",
        "Fx7YH89N3XZQ",
        "n2nAa2m63XZQ",
        "BQ7rAEU83XZQ",
        "wA9WMvkT3XZR",
        "8hx9eFev3XZR",
        "7i-nlRqk3XZR",
        "2LQYQ8ae3XZR",
        "1Hjn7TMy3XZR",
        "anh6_51B3XZS",
        "mroMgyrS3XZT",
        "CKVOx_s-3XZT",
        "LQ8dvXvt3XZU",
        "upu1zJzn3XZV",
        "hW50cgWX3XZW",
        "NB4LBe1O3XZW",
        "TbTb8EWz3XZW",
        "Hqw6pUtE3XZX",
        "mweiAJRt3XZX",
        "tKg5pvpf3XZX",
        "Mc1C5WSj3XZX",
        "EZfhl77j3XZX",
        "S-Zclx5m3XZY",
        "7O8jfNgq3XZY",
        "8T-TEdmS3XZY",
        "uPjY3v463XZY",
        "sIS_1wMg3XZY"
      ],
      "include_colab_link": true
    }
  },
  "nbformat": 4,
  "nbformat_minor": 0
}